{
  "nbformat": 4,
  "nbformat_minor": 0,
  "metadata": {
    "colab": {
      "name": "Bootcamp.ipynb",
      "version": "0.3.2",
      "provenance": [],
      "collapsed_sections": []
    },
    "kernelspec": {
      "name": "python3",
      "display_name": "Python 3"
    }
  },
  "cells": [
    {
      "metadata": {
        "id": "FSVDMT0enZgV",
        "colab_type": "text"
      },
      "cell_type": "markdown",
      "source": [
        "# Python Bootcamp (26 January 2019)\n",
        "___\n",
        "Welcome to the SPS@UHM python bootcamp! This event will provide the basic programming fundamentals (specifically in python) to all skill levels. This will be the first step to our Data Science Seminars which will be hosted throughout the semester, where we will apply these fundamentals to build a toolkit to succeed in data science."
      ]
    },
    {
      "metadata": {
        "id": "tglLmpyjoL5Q",
        "colab_type": "text"
      },
      "cell_type": "markdown",
      "source": [
        "___\n",
        "## Outline\n",
        "1. What is programming?\n",
        "\n",
        "1. Intro. to Python fundamentals\n",
        "\n",
        "1. Lunch / break\n",
        "\n",
        "1. More fundamentals\n",
        "\n",
        "1. Intro to data science and discussion of future events"
      ]
    },
    {
      "metadata": {
        "id": "WfUeDApDoh6u",
        "colab_type": "text"
      },
      "cell_type": "markdown",
      "source": [
        "___\n",
        "# Introduction to Programming"
      ]
    },
    {
      "metadata": {
        "id": "90h1q3cjoZWo",
        "colab_type": "text"
      },
      "cell_type": "markdown",
      "source": [
        "___\n",
        "## What does a computer do?\n",
        "\n",
        "1. Executes commands in sequence\n",
        "1. Each command operates on the current state of the machine\n",
        "\n",
        "**Remember:** Computers are dumb\n",
        "\n",
        "## What does code do?\n",
        "\n",
        "Code is nothing more than a stored sequence of commands carried out by the computer.\n",
        "\n",
        "![alt text](https://imgs.xkcd.com/comics/ai_research_2x.png)"
      ]
    },
    {
      "metadata": {
        "id": "LKmAKkOtqN2p",
        "colab_type": "text"
      },
      "cell_type": "markdown",
      "source": [
        "# Standalone Python Topics\n",
        "___"
      ]
    },
    {
      "metadata": {
        "id": "UzQ3UM22qZoy",
        "colab_type": "text"
      },
      "cell_type": "markdown",
      "source": [
        "## Functions\n",
        "\n",
        "We will start by introducing two fundamental functions in Python:\n",
        "1. `print()`\n",
        "1. `help()`"
      ]
    },
    {
      "metadata": {
        "id": "MslkDlIdq2PW",
        "colab_type": "text"
      },
      "cell_type": "markdown",
      "source": [
        "### Print Function\n",
        "As the name implies, this function prints whatever you tell it to. For example,"
      ]
    },
    {
      "metadata": {
        "id": "txg0a4ChnwbE",
        "colab_type": "code",
        "outputId": "491733ab-49bb-4640-e22a-8774b2faf36c",
        "colab": {
          "base_uri": "https://localhost:8080/",
          "height": 51
        }
      },
      "cell_type": "code",
      "source": [
        "print('Hello World')\n",
        "print(5)"
      ],
      "execution_count": 0,
      "outputs": [
        {
          "output_type": "stream",
          "text": [
            "Hello World\n",
            "5\n"
          ],
          "name": "stdout"
        }
      ]
    },
    {
      "metadata": {
        "id": "rt8WoWiIsyVK",
        "colab_type": "text"
      },
      "cell_type": "markdown",
      "source": [
        "`print()` can take multiple parameters:"
      ]
    },
    {
      "metadata": {
        "id": "Cy_pwdsas4jY",
        "colab_type": "code",
        "outputId": "4fec5738-28f6-42a4-e28b-641f6f235724",
        "colab": {
          "base_uri": "https://localhost:8080/",
          "height": 51
        }
      },
      "cell_type": "code",
      "source": [
        "print('Hello', 'World', end=' ')\n",
        "print(4, 2, sep='*****')"
      ],
      "execution_count": 0,
      "outputs": [
        {
          "output_type": "stream",
          "text": [
            "Hello World\n",
            "4*****2\n"
          ],
          "name": "stdout"
        }
      ]
    },
    {
      "metadata": {
        "id": "ZkbfptGjrQED",
        "colab_type": "text"
      },
      "cell_type": "markdown",
      "source": [
        "### Exercise\n",
        "Use the print function to print your name and age\n",
        "\n",
        "**Solution:**"
      ]
    },
    {
      "metadata": {
        "id": "3TRPm7tvrLJs",
        "colab_type": "code",
        "outputId": "86947c70-daad-45b0-9ccb-142f198c3b32",
        "colab": {
          "base_uri": "https://localhost:8080/",
          "height": 34
        }
      },
      "cell_type": "code",
      "source": [
        "print(\"I like chocolate milk\")"
      ],
      "execution_count": 0,
      "outputs": [
        {
          "output_type": "stream",
          "text": [
            "I like chocolate milk\n"
          ],
          "name": "stdout"
        }
      ]
    },
    {
      "metadata": {
        "id": "zmxgfaVwrkPX",
        "colab_type": "text"
      },
      "cell_type": "markdown",
      "source": [
        "### Help Function\n",
        "This function will tell how how to use a certain function, and what parameters it takes."
      ]
    },
    {
      "metadata": {
        "id": "uoIWkvTRrigL",
        "colab_type": "code",
        "outputId": "5ce28047-07f3-4d82-9c16-562466faf22d",
        "colab": {
          "base_uri": "https://localhost:8080/",
          "height": 221
        }
      },
      "cell_type": "code",
      "source": [
        "help(print)"
      ],
      "execution_count": 0,
      "outputs": [
        {
          "output_type": "stream",
          "text": [
            "Help on built-in function print in module builtins:\n",
            "\n",
            "print(...)\n",
            "    print(value, ..., sep=' ', end='\\n', file=sys.stdout, flush=False)\n",
            "    \n",
            "    Prints the values to a stream, or to sys.stdout by default.\n",
            "    Optional keyword arguments:\n",
            "    file:  a file-like object (stream); defaults to the current sys.stdout.\n",
            "    sep:   string inserted between values, default a space.\n",
            "    end:   string appended after the last value, default a newline.\n",
            "    flush: whether to forcibly flush the stream.\n",
            "\n"
          ],
          "name": "stdout"
        }
      ]
    },
    {
      "metadata": {
        "id": "8ZjYMa3Xr-A7",
        "colab_type": "text"
      },
      "cell_type": "markdown",
      "source": [
        "### Exercise\n",
        "\n",
        "There are many built-in functions available in Python 3.6, for a list see [here.](https://docs.python.org/2/library/functions.html)\n",
        "\n",
        "Use the help function to check the following built in functions:\n",
        "1. `list`\n",
        "1. `sum`\n",
        "1. `min`\n",
        "\n",
        "**Solution:**"
      ]
    },
    {
      "metadata": {
        "id": "UXSleknKr89o",
        "colab_type": "code",
        "colab": {}
      },
      "cell_type": "code",
      "source": [
        "# Number 1\n",
        "help(list)\n",
        "# Number 2\n",
        "help(sum)\n",
        "# Number 3\n",
        "help(min)"
      ],
      "execution_count": 0,
      "outputs": []
    },
    {
      "metadata": {
        "id": "dT11wI4XuOv6",
        "colab_type": "text"
      },
      "cell_type": "markdown",
      "source": [
        "___\n",
        "## Data Types Part 1\n",
        "\n",
        "There are various data types, a few common examples are:\n",
        "\n",
        "1. `int` : integer\n",
        "1. `float` : floating point (decimal number)\n",
        "1. `str` : string (text)\n",
        "1. `bool` : boolean (i.e. True/False)\n",
        "\n",
        "For example:"
      ]
    },
    {
      "metadata": {
        "id": "7XCvOL7ZvPOJ",
        "colab_type": "code",
        "colab": {}
      },
      "cell_type": "code",
      "source": [
        "myInteger = 2\n",
        "myFloat = 3.1415\n",
        "myString = 'apple'\n",
        "myBoolean = True"
      ],
      "execution_count": 0,
      "outputs": []
    },
    {
      "metadata": {
        "id": "DF-ReaKHvdtb",
        "colab_type": "text"
      },
      "cell_type": "markdown",
      "source": [
        "We can also check the `type` of variables:"
      ]
    },
    {
      "metadata": {
        "id": "n4Fz2WxNvkho",
        "colab_type": "code",
        "outputId": "cb5b5925-93a4-4a0d-fd39-635ec2c8297e",
        "colab": {
          "base_uri": "https://localhost:8080/",
          "height": 85
        }
      },
      "cell_type": "code",
      "source": [
        "print(type(myInteger))\n",
        "print(type(myFloat))\n",
        "print(type(myString))\n",
        "print(type(myBoolean))"
      ],
      "execution_count": 0,
      "outputs": [
        {
          "output_type": "stream",
          "text": [
            "<class 'int'>\n",
            "<class 'float'>\n",
            "<class 'str'>\n",
            "<class 'bool'>\n"
          ],
          "name": "stdout"
        }
      ]
    },
    {
      "metadata": {
        "id": "VLuGRicFwnyR",
        "colab_type": "text"
      },
      "cell_type": "markdown",
      "source": [
        "Another useful feature is _type casting_"
      ]
    },
    {
      "metadata": {
        "id": "jeTmrxC6wvOI",
        "colab_type": "code",
        "outputId": "437f6a1b-5538-40fa-b441-8f03fea9ec29",
        "colab": {
          "base_uri": "https://localhost:8080/",
          "height": 51
        }
      },
      "cell_type": "code",
      "source": [
        "print(float(myInteger))\n",
        "print(int(myFloat))"
      ],
      "execution_count": 0,
      "outputs": [
        {
          "output_type": "stream",
          "text": [
            "2.0\n",
            "3\n"
          ],
          "name": "stdout"
        }
      ]
    },
    {
      "metadata": {
        "id": "dXnSJ3oKwgfL",
        "colab_type": "text"
      },
      "cell_type": "markdown",
      "source": [
        "### Exercise\n",
        "1. Does int() correctly round floats?\n",
        "1. What are the numerical equivalents of booleans?\n",
        "1. What strings can you successfully cast into ints, floats, and booleans?\n",
        "\n",
        "**Solution:**"
      ]
    },
    {
      "metadata": {
        "id": "n4ygy74Kw4I6",
        "colab_type": "code",
        "outputId": "61366ad7-bd4a-4443-b981-b91a5c12e2ff",
        "colab": {
          "base_uri": "https://localhost:8080/",
          "height": 102
        }
      },
      "cell_type": "code",
      "source": [
        "# Number 1\n",
        "print(int(10.99999))\n",
        "\n",
        "# Number 2\n",
        "print(int(False))\n",
        "print(int(True))\n",
        "\n",
        "# Number 3\n",
        "print(float('1'))\n",
        "print(bool('YEEEEEEET'))"
      ],
      "execution_count": 0,
      "outputs": [
        {
          "output_type": "stream",
          "text": [
            "10\n",
            "0\n",
            "1\n",
            "1.0\n",
            "True\n"
          ],
          "name": "stdout"
        }
      ]
    },
    {
      "metadata": {
        "id": "qvPWI_kkuebj",
        "colab_type": "text"
      },
      "cell_type": "markdown",
      "source": [
        "### Note on Naming Schemes\n",
        "\n",
        "1. May consist of letters, numbers, and underscores\n",
        "1. Cannot start with a number\n",
        "1. Is case sensitive\n",
        "\n",
        "For example, the following line returns an error, why?"
      ]
    },
    {
      "metadata": {
        "id": "GTDjrs5dshFD",
        "colab_type": "code",
        "outputId": "d2f1a6e2-e702-460e-eb92-daca0ba6e7e2",
        "colab": {
          "base_uri": "https://localhost:8080/",
          "height": 34
        }
      },
      "cell_type": "code",
      "source": [
        "five = 5\n",
        "print(five)"
      ],
      "execution_count": 0,
      "outputs": [
        {
          "output_type": "stream",
          "text": [
            "5\n"
          ],
          "name": "stdout"
        }
      ]
    },
    {
      "metadata": {
        "id": "rxU2stZPv6tc",
        "colab_type": "text"
      },
      "cell_type": "markdown",
      "source": [
        "It is also a good idea to chose variable names that are useful, for example, `blah = 3.14`, isn't particularly useful. Perhaps `pi = 3.14` is a better choice.\n"
      ]
    },
    {
      "metadata": {
        "id": "KNrB61rcu_Rm",
        "colab_type": "text"
      },
      "cell_type": "markdown",
      "source": [
        "___\n",
        "## Basic Math\n",
        "\n",
        "Python is a very valuable tool for evaluating mathematical expressions. Here are some basic mathmatical operations you can peform in Python."
      ]
    },
    {
      "metadata": {
        "id": "hkv9H6DSu-ZM",
        "colab_type": "code",
        "outputId": "470e9ac8-2d84-4d01-a775-a5b0e5a2f210",
        "colab": {
          "base_uri": "https://localhost:8080/",
          "height": 102
        }
      },
      "cell_type": "code",
      "source": [
        "a = 2\n",
        "b = 4.5\n",
        "c = \"apple\"\n",
        "\n",
        "print(a+b)\n",
        "print(a-b)\n",
        "print(a*b)\n",
        "print(a/b)\n",
        "print(c+str(a))"
      ],
      "execution_count": 0,
      "outputs": [
        {
          "output_type": "stream",
          "text": [
            "6.5\n",
            "-2.5\n",
            "9.0\n",
            "0.4444444444444444\n",
            "apple2\n"
          ],
          "name": "stdout"
        }
      ]
    },
    {
      "metadata": {
        "id": "w0n1VkFrx6ZC",
        "colab_type": "text"
      },
      "cell_type": "markdown",
      "source": [
        "### Exercise\n",
        "1. What do the following operators do?\n",
        "    - `**`\n",
        "    - `//`\n",
        "    - `%`\n",
        "1. What combinations of data types work and don't work?\n",
        "1. Did you find anything you didn't expect?\n",
        "\n",
        "**Solution:**"
      ]
    },
    {
      "metadata": {
        "id": "iswsIq5Mutjx",
        "colab_type": "code",
        "outputId": "a7f724ad-203d-4396-d954-168532069ec0",
        "colab": {
          "base_uri": "https://localhost:8080/",
          "height": 68
        }
      },
      "cell_type": "code",
      "source": [
        "# Number 1\n",
        "print(4**2)\n",
        "\n",
        "# Number 2\n",
        "print(10//6)\n",
        "\n",
        "# Number 3\n",
        "print(10%6)"
      ],
      "execution_count": 0,
      "outputs": [
        {
          "output_type": "stream",
          "text": [
            "16\n",
            "1\n",
            "4\n"
          ],
          "name": "stdout"
        }
      ]
    },
    {
      "metadata": {
        "id": "NrWgj9I5y063",
        "colab_type": "text"
      },
      "cell_type": "markdown",
      "source": [
        "___\n",
        "## Conditionals"
      ]
    },
    {
      "metadata": {
        "id": "U2RsrmDo11E2",
        "colab_type": "text"
      },
      "cell_type": "markdown",
      "source": [
        "### Conditionals with Math"
      ]
    },
    {
      "metadata": {
        "id": "WvAcwHFVy_Rt",
        "colab_type": "code",
        "outputId": "ec083161-0ed8-42d7-a44a-1b5d8a49d2f7",
        "colab": {
          "base_uri": "https://localhost:8080/",
          "height": 119
        }
      },
      "cell_type": "code",
      "source": [
        "print(3 == 3)\n",
        "print(3 > 5)\n",
        "print(3 < 5)\n",
        "print(1 <= 2)\n",
        "print(2 >= 1)\n",
        "print(2 != 1)"
      ],
      "execution_count": 0,
      "outputs": [
        {
          "output_type": "stream",
          "text": [
            "True\n",
            "False\n",
            "True\n",
            "True\n",
            "True\n",
            "True\n"
          ],
          "name": "stdout"
        }
      ]
    },
    {
      "metadata": {
        "id": "hcrZ9lsQ16Tx",
        "colab_type": "code",
        "outputId": "e08e024a-9893-4cca-8271-9e30252be442",
        "colab": {
          "base_uri": "https://localhost:8080/",
          "height": 68
        }
      },
      "cell_type": "code",
      "source": [
        "a = 5/3\n",
        "b = 1 + 2/3\n",
        "print(a == b)\n",
        "print(a)\n",
        "print(b)"
      ],
      "execution_count": 0,
      "outputs": [
        {
          "output_type": "stream",
          "text": [
            "False\n",
            "1.6666666666666667\n",
            "1.6666666666666665\n"
          ],
          "name": "stdout"
        }
      ]
    },
    {
      "metadata": {
        "id": "epUkFljZ19xk",
        "colab_type": "code",
        "outputId": "36ed55cb-7766-4d21-a660-54e71dd12d84",
        "colab": {
          "base_uri": "https://localhost:8080/",
          "height": 85
        }
      },
      "cell_type": "code",
      "source": [
        "print(\"apple\" == \"banana\")\n",
        "print(len(\"apple\") == 5)\n",
        "print(\"b\" in \"banana\")\n",
        "print(\"q\" in \"apple\")"
      ],
      "execution_count": 0,
      "outputs": [
        {
          "output_type": "stream",
          "text": [
            "False\n",
            "True\n",
            "True\n",
            "False\n"
          ],
          "name": "stdout"
        }
      ]
    },
    {
      "metadata": {
        "id": "Hq-Auct3yw7R",
        "colab_type": "text"
      },
      "cell_type": "markdown",
      "source": [
        "___\n",
        "## Functions"
      ]
    },
    {
      "metadata": {
        "id": "472SFFY2ydA5",
        "colab_type": "code",
        "outputId": "21f6e061-be70-4f27-8efb-2e762eb25760",
        "colab": {
          "base_uri": "https://localhost:8080/",
          "height": 34
        }
      },
      "cell_type": "code",
      "source": [
        "def my_first_function():\n",
        "    print('I made my first function!')\n",
        "    \n",
        "my_first_function()"
      ],
      "execution_count": 0,
      "outputs": [
        {
          "output_type": "stream",
          "text": [
            "I made my first function!\n"
          ],
          "name": "stdout"
        }
      ]
    },
    {
      "metadata": {
        "id": "4w_4-K0C2RfT",
        "colab_type": "text"
      },
      "cell_type": "markdown",
      "source": [
        "We can also introduce parameters into our functions."
      ]
    },
    {
      "metadata": {
        "id": "DidDE0w42WJQ",
        "colab_type": "code",
        "outputId": "866c82eb-fbaf-4dd1-d9f4-1086f0d94ae2",
        "colab": {
          "base_uri": "https://localhost:8080/",
          "height": 51
        }
      },
      "cell_type": "code",
      "source": [
        "def newton_force(mass, accel=9.81):\n",
        "    return mass * accel\n",
        "\n",
        "force = newton_force(100)\n",
        "\n",
        "print(force, '[N]')\n",
        "\n",
        "force2 = newton_force(accel=9.81, mass=10)\n",
        "\n",
        "print(force2, '[N]')"
      ],
      "execution_count": 0,
      "outputs": [
        {
          "output_type": "stream",
          "text": [
            "981.0 [N]\n",
            "98.10000000000001 [N]\n"
          ],
          "name": "stdout"
        }
      ]
    },
    {
      "metadata": {
        "id": "sABPQhA13Bi-",
        "colab_type": "text"
      },
      "cell_type": "markdown",
      "source": [
        "### Exercise\n",
        "Create a function which returns the hypotenuse of a right triangle. Recall: $c^2 = a^2 + b^2$.\n",
        "\n",
        "**Solution:**"
      ]
    },
    {
      "metadata": {
        "id": "WaAzjmF-3Sm0",
        "colab_type": "code",
        "colab": {}
      },
      "cell_type": "code",
      "source": [
        "def hypot(a, b):\n",
        "    \"\"\"Put Your Code Here\"\"\"\n",
        "    c = (a**2 + b**2)**0.5\n",
        "    return c"
      ],
      "execution_count": 0,
      "outputs": []
    },
    {
      "metadata": {
        "id": "-XNagk8Jys0e",
        "colab_type": "code",
        "outputId": "6b68ee74-9956-4cad-a70a-a89adccfc42a",
        "colab": {
          "base_uri": "https://localhost:8080/",
          "height": 34
        }
      },
      "cell_type": "code",
      "source": [
        "hypot(a=3, b=4)"
      ],
      "execution_count": 0,
      "outputs": [
        {
          "output_type": "execute_result",
          "data": {
            "text/plain": [
              "5.0"
            ]
          },
          "metadata": {
            "tags": []
          },
          "execution_count": 23
        }
      ]
    },
    {
      "metadata": {
        "id": "Zhhwl6TtO_QW",
        "colab_type": "code",
        "outputId": "b6d42c5c-a24d-45ee-c9b6-e4cd5e595939",
        "colab": {
          "base_uri": "https://localhost:8080/",
          "height": 34
        }
      },
      "cell_type": "code",
      "source": [
        "print(hypot(a=400, b=300))"
      ],
      "execution_count": 0,
      "outputs": [
        {
          "output_type": "stream",
          "text": [
            "500.0\n"
          ],
          "name": "stdout"
        }
      ]
    },
    {
      "metadata": {
        "id": "t9vM7RPIy_6o",
        "colab_type": "text"
      },
      "cell_type": "markdown",
      "source": [
        "___\n",
        "## Flow Control"
      ]
    },
    {
      "metadata": {
        "id": "1i9hl8auzBjP",
        "colab_type": "text"
      },
      "cell_type": "markdown",
      "source": [
        "### If Statements"
      ]
    },
    {
      "metadata": {
        "id": "9mt6OhmPzApk",
        "colab_type": "code",
        "outputId": "fe272c3a-f7e1-4a31-944e-84f14b6d6ed9",
        "colab": {
          "base_uri": "https://localhost:8080/",
          "height": 68
        }
      },
      "cell_type": "code",
      "source": [
        "def do_it(a, b):\n",
        "    if a == b:\n",
        "        print(\"Yes\")\n",
        "    elif b > a:\n",
        "        print(\"No\")\n",
        "    else:\n",
        "        print(\"I give up\")\n",
        "\n",
        "do_it(3, 3)\n",
        "do_it(10, 100)\n",
        "do_it(0.1, 0)"
      ],
      "execution_count": 0,
      "outputs": [
        {
          "output_type": "stream",
          "text": [
            "Yes\n",
            "No\n",
            "I give up\n"
          ],
          "name": "stdout"
        }
      ]
    },
    {
      "metadata": {
        "id": "FRJflvtZzEu0",
        "colab_type": "text"
      },
      "cell_type": "markdown",
      "source": [
        "### While Loops"
      ]
    },
    {
      "metadata": {
        "id": "kJ1iZ6hJzHYa",
        "colab_type": "code",
        "outputId": "52a937ad-8bde-470b-96e9-cbffc4e1906e",
        "colab": {
          "base_uri": "https://localhost:8080/",
          "height": 306
        }
      },
      "cell_type": "code",
      "source": [
        "a = 5\n",
        "b = 1\n",
        "\n",
        "while a > b:\n",
        "    print('%s is greater than %s'%(a,b))\n",
        "    print(str(a)+' is greater than '+str(b))\n",
        "    print('{one} is greater than {two}'.format(one=a,two=b))\n",
        "    print(f'{a} is greater than {b}')\n",
        "    b = b+1\n",
        "\n",
        "print('{} is not greater than {}'.format(a,b))"
      ],
      "execution_count": 0,
      "outputs": [
        {
          "output_type": "stream",
          "text": [
            "5 is greater than 1\n",
            "5 is greater than 1\n",
            "5 is greater than 1\n",
            "5 is greater than 1\n",
            "5 is greater than 2\n",
            "5 is greater than 2\n",
            "5 is greater than 2\n",
            "5 is greater than 2\n",
            "5 is greater than 3\n",
            "5 is greater than 3\n",
            "5 is greater than 3\n",
            "5 is greater than 3\n",
            "5 is greater than 4\n",
            "5 is greater than 4\n",
            "5 is greater than 4\n",
            "5 is greater than 4\n",
            "5 is not greater than 5\n"
          ],
          "name": "stdout"
        }
      ]
    },
    {
      "metadata": {
        "id": "MRrwslCkzQqE",
        "colab_type": "text"
      },
      "cell_type": "markdown",
      "source": [
        "___\n",
        "## Data Types Part 2 - Electric Boogaloo"
      ]
    },
    {
      "metadata": {
        "id": "G4rvv5Sx1VH9",
        "colab_type": "text"
      },
      "cell_type": "markdown",
      "source": [
        "### Lists"
      ]
    },
    {
      "metadata": {
        "id": "FFSbouLqzTBb",
        "colab_type": "code",
        "outputId": "95f24c08-3b7f-49ea-c88c-e2a236dfe6d7",
        "colab": {
          "base_uri": "https://localhost:8080/",
          "height": 34
        }
      },
      "cell_type": "code",
      "source": [
        "myList = [\"apple\", \"banana\", \"shark\", 15]\n",
        "print(myList)"
      ],
      "execution_count": 0,
      "outputs": [
        {
          "output_type": "stream",
          "text": [
            "['apple', 'banana', 'shark', 15]\n"
          ],
          "name": "stdout"
        }
      ]
    },
    {
      "metadata": {
        "id": "QdJlteiK1itG",
        "colab_type": "text"
      },
      "cell_type": "markdown",
      "source": [
        "### Adding and Removing Elements"
      ]
    },
    {
      "metadata": {
        "id": "F4kAc5MU1nS7",
        "colab_type": "code",
        "outputId": "57089e89-e31f-4abc-9a14-4a86bb60ce4b",
        "colab": {
          "base_uri": "https://localhost:8080/",
          "height": 34
        }
      },
      "cell_type": "code",
      "source": [
        "myList.append(\"ballistic missile\")\n",
        "print(myList)"
      ],
      "execution_count": 0,
      "outputs": [
        {
          "output_type": "stream",
          "text": [
            "['apple', 'banana', 'shark', 15, 'ballistic missile']\n"
          ],
          "name": "stdout"
        }
      ]
    },
    {
      "metadata": {
        "id": "jeBfi18O1rGB",
        "colab_type": "code",
        "outputId": "2f0e6319-0384-4809-8f1f-8dc4aa2b7d5e",
        "colab": {
          "base_uri": "https://localhost:8080/",
          "height": 34
        }
      },
      "cell_type": "code",
      "source": [
        "myList.remove(\"banana\")\n",
        "print(myList)"
      ],
      "execution_count": 0,
      "outputs": [
        {
          "output_type": "stream",
          "text": [
            "['apple', 'shark', 15, 'ballistic missile']\n"
          ],
          "name": "stdout"
        }
      ]
    },
    {
      "metadata": {
        "id": "aHNcxH-x4rjE",
        "colab_type": "text"
      },
      "cell_type": "markdown",
      "source": [
        "### List Indexing and Slicing"
      ]
    },
    {
      "metadata": {
        "id": "FfYNBUd44tr0",
        "colab_type": "code",
        "outputId": "de464f44-2fe4-48cb-de80-ea1cb5678624",
        "colab": {
          "base_uri": "https://localhost:8080/",
          "height": 266
        }
      },
      "cell_type": "code",
      "source": [
        "print(myList[0])\n",
        "print(myList[3])\n",
        "print(myList[1:3])\n",
        "print(myList[-1])"
      ],
      "execution_count": 0,
      "outputs": [
        {
          "output_type": "stream",
          "text": [
            "apple\n",
            "ballistic missile\n",
            "['shark', 15]\n",
            "ballistic missile\n"
          ],
          "name": "stdout"
        },
        {
          "output_type": "error",
          "ename": "TypeError",
          "evalue": "ignored",
          "traceback": [
            "\u001b[0;31m---------------------------------------------------------------------------\u001b[0m",
            "\u001b[0;31mTypeError\u001b[0m                                 Traceback (most recent call last)",
            "\u001b[0;32m<ipython-input-43-fafafc695fc1>\u001b[0m in \u001b[0;36m<module>\u001b[0;34m()\u001b[0m\n\u001b[1;32m      3\u001b[0m \u001b[0mprint\u001b[0m\u001b[0;34m(\u001b[0m\u001b[0mmyList\u001b[0m\u001b[0;34m[\u001b[0m\u001b[0;36m1\u001b[0m\u001b[0;34m:\u001b[0m\u001b[0;36m3\u001b[0m\u001b[0;34m]\u001b[0m\u001b[0;34m)\u001b[0m\u001b[0;34m\u001b[0m\u001b[0;34m\u001b[0m\u001b[0m\n\u001b[1;32m      4\u001b[0m \u001b[0mprint\u001b[0m\u001b[0;34m(\u001b[0m\u001b[0mmyList\u001b[0m\u001b[0;34m[\u001b[0m\u001b[0;34m-\u001b[0m\u001b[0;36m1\u001b[0m\u001b[0;34m]\u001b[0m\u001b[0;34m)\u001b[0m\u001b[0;34m\u001b[0m\u001b[0;34m\u001b[0m\u001b[0m\n\u001b[0;32m----> 5\u001b[0;31m \u001b[0mprint\u001b[0m\u001b[0;34m(\u001b[0m\u001b[0mmyList\u001b[0m\u001b[0;34m(\u001b[0m\u001b[0;36m0\u001b[0m\u001b[0;34m)\u001b[0m\u001b[0;34m)\u001b[0m\u001b[0;34m\u001b[0m\u001b[0;34m\u001b[0m\u001b[0m\n\u001b[0m",
            "\u001b[0;31mTypeError\u001b[0m: 'list' object is not callable"
          ]
        }
      ]
    },
    {
      "metadata": {
        "id": "ozW5vXpW41dO",
        "colab_type": "text"
      },
      "cell_type": "markdown",
      "source": [
        "### Exercise\n",
        "\n",
        "Create a function which takes a list as a parameter and an integer, n. Return the n-th entry of the list.\n",
        "\n",
        "**Solution:**"
      ]
    },
    {
      "metadata": {
        "id": "HElIDPe-5Ccm",
        "colab_type": "code",
        "outputId": "1b2b8273-4675-4494-9451-052950fb0607",
        "colab": {
          "base_uri": "https://localhost:8080/",
          "height": 34
        }
      },
      "cell_type": "code",
      "source": [
        "def nth_entry(a_list, n):\n",
        "    \"\"\"Your Code Here\"\"\"\n",
        "    return a_list[n]\n",
        "    \n",
        "nth_entry(myList, 3)"
      ],
      "execution_count": 0,
      "outputs": [
        {
          "output_type": "execute_result",
          "data": {
            "text/plain": [
              "'ballistic missile'"
            ]
          },
          "metadata": {
            "tags": []
          },
          "execution_count": 44
        }
      ]
    },
    {
      "metadata": {
        "id": "P6wT7a6U5qax",
        "colab_type": "text"
      },
      "cell_type": "markdown",
      "source": [
        "### Multi-Dimensional Arrays"
      ]
    },
    {
      "metadata": {
        "id": "ewNKJPnn7BHa",
        "colab_type": "code",
        "outputId": "c5076a1e-e919-4155-c33c-fc6bfc473deb",
        "colab": {
          "base_uri": "https://localhost:8080/",
          "height": 34
        }
      },
      "cell_type": "code",
      "source": [
        "array_2d = [[0,1,2,3], [2,5,3,2], [6,3,1,7]]\n",
        "print(array_2d)"
      ],
      "execution_count": 0,
      "outputs": [
        {
          "output_type": "stream",
          "text": [
            "[[0, 1, 2, 3], [2, 5, 3, 2], [6, 3, 1, 7]]\n"
          ],
          "name": "stdout"
        }
      ]
    },
    {
      "metadata": {
        "id": "XqTLhY3u7Euf",
        "colab_type": "code",
        "outputId": "a164168d-5705-4653-8375-7681377aab0e",
        "colab": {
          "base_uri": "https://localhost:8080/",
          "height": 85
        }
      },
      "cell_type": "code",
      "source": [
        "print(array_2d[0])\n",
        "print(array_2d[1][0:2])\n",
        "print(array_2d[0:2])\n",
        "print(myList[0][0:5])"
      ],
      "execution_count": 0,
      "outputs": [
        {
          "output_type": "stream",
          "text": [
            "[0, 1, 2, 3]\n",
            "[2, 5]\n",
            "[[0, 1, 2, 3], [2, 5, 3, 2]]\n",
            "apple\n"
          ],
          "name": "stdout"
        }
      ]
    },
    {
      "metadata": {
        "id": "HRJiaMQ70Rm7",
        "colab_type": "text"
      },
      "cell_type": "markdown",
      "source": [
        "___\n",
        "## Flow Control Part 2 - Back 2 Tha Hood"
      ]
    },
    {
      "metadata": {
        "id": "eEHETZpL0XYS",
        "colab_type": "code",
        "outputId": "0ad36d8d-85f8-47e6-c65e-3f585d344d79",
        "colab": {
          "base_uri": "https://localhost:8080/",
          "height": 85
        }
      },
      "cell_type": "code",
      "source": [
        "for item in myList:\n",
        "    print(item)"
      ],
      "execution_count": 0,
      "outputs": [
        {
          "output_type": "stream",
          "text": [
            "apple\n",
            "shark\n",
            "15\n",
            "ballistic missile\n"
          ],
          "name": "stdout"
        }
      ]
    },
    {
      "metadata": {
        "id": "SNCrY3vO7SAR",
        "colab_type": "code",
        "outputId": "23b92941-d76d-49d5-88a6-765497a43215",
        "colab": {
          "base_uri": "https://localhost:8080/",
          "height": 119
        }
      },
      "cell_type": "code",
      "source": [
        "myList2 = [1,2,3,4,5,6]\n",
        "\n",
        "for item in myList2:\n",
        "    print(item**2 + 3.8*item + 5.1)"
      ],
      "execution_count": 0,
      "outputs": [
        {
          "output_type": "stream",
          "text": [
            "9.899999999999999\n",
            "16.7\n",
            "25.5\n",
            "36.3\n",
            "49.1\n",
            "63.9\n"
          ],
          "name": "stdout"
        }
      ]
    },
    {
      "metadata": {
        "id": "cSGuQA5H7UIh",
        "colab_type": "code",
        "outputId": "88387bd7-31ff-4b79-b997-32f646c99fe0",
        "colab": {
          "base_uri": "https://localhost:8080/",
          "height": 119
        }
      },
      "cell_type": "code",
      "source": [
        "for item in myList2:\n",
        "    if item > 3:\n",
        "        print(\"True\")\n",
        "    else:\n",
        "        print(\"False\")"
      ],
      "execution_count": 0,
      "outputs": [
        {
          "output_type": "stream",
          "text": [
            "False\n",
            "False\n",
            "False\n",
            "True\n",
            "True\n",
            "True\n"
          ],
          "name": "stdout"
        }
      ]
    },
    {
      "metadata": {
        "id": "XvAcila07app",
        "colab_type": "text"
      },
      "cell_type": "markdown",
      "source": [
        "**`range()`** function"
      ]
    },
    {
      "metadata": {
        "id": "GKdWcKTsVLt6",
        "colab_type": "code",
        "outputId": "cec4a423-1d4e-44d9-ead6-a0bcfefabb4c",
        "colab": {
          "base_uri": "https://localhost:8080/",
          "height": 34
        }
      },
      "cell_type": "code",
      "source": [
        "list(range(len(myList)))"
      ],
      "execution_count": 0,
      "outputs": [
        {
          "output_type": "execute_result",
          "data": {
            "text/plain": [
              "[0, 1, 2, 3]"
            ]
          },
          "metadata": {
            "tags": []
          },
          "execution_count": 63
        }
      ]
    },
    {
      "metadata": {
        "id": "rKZ59r-Y7WCh",
        "colab_type": "code",
        "outputId": "78d0eed4-7360-424c-c615-4700b56300a2",
        "colab": {
          "base_uri": "https://localhost:8080/",
          "height": 85
        }
      },
      "cell_type": "code",
      "source": [
        "myRange = range(len(myList))\n",
        "for i in myRange:\n",
        "    print('{}: {}'.format(i, myList[i]))"
      ],
      "execution_count": 0,
      "outputs": [
        {
          "output_type": "stream",
          "text": [
            "0: apple\n",
            "1: shark\n",
            "2: 15\n",
            "3: ballistic missile\n"
          ],
          "name": "stdout"
        }
      ]
    },
    {
      "metadata": {
        "id": "hyjUUuZHVkbK",
        "colab_type": "code",
        "outputId": "0a1fe399-275b-42fc-8912-c9247a69cc29",
        "colab": {
          "base_uri": "https://localhost:8080/",
          "height": 68
        }
      },
      "cell_type": "code",
      "source": [
        "for i, j in enumerate(['apple', 'swift', 'brown']):\n",
        "    print(i, j)"
      ],
      "execution_count": 0,
      "outputs": [
        {
          "output_type": "stream",
          "text": [
            "0 apple\n",
            "1 swift\n",
            "2 brown\n"
          ],
          "name": "stdout"
        }
      ]
    },
    {
      "metadata": {
        "id": "QBKmCmFEV2PL",
        "colab_type": "code",
        "outputId": "1ff72688-3952-4506-d777-8b4bbcf733a1",
        "colab": {
          "base_uri": "https://localhost:8080/",
          "height": 68
        }
      },
      "cell_type": "code",
      "source": [
        "myList = ['apple', 'swift', 'brown']\n",
        "\n",
        "for i in range(len(myList)):\n",
        "    print(i, myList[i])"
      ],
      "execution_count": 0,
      "outputs": [
        {
          "output_type": "stream",
          "text": [
            "0 apple\n",
            "1 swift\n",
            "2 brown\n"
          ],
          "name": "stdout"
        }
      ]
    },
    {
      "metadata": {
        "id": "64_hVKwH7heg",
        "colab_type": "text"
      },
      "cell_type": "markdown",
      "source": [
        "**List Comprehension**"
      ]
    },
    {
      "metadata": {
        "id": "2MKcW0cv7Ycc",
        "colab_type": "code",
        "outputId": "fbb985f7-af7f-429c-b895-f88d3e61f070",
        "colab": {
          "base_uri": "https://localhost:8080/",
          "height": 34
        }
      },
      "cell_type": "code",
      "source": [
        "myList3 = [i**2 for i in myList2]\n",
        "print(myList3)"
      ],
      "execution_count": 0,
      "outputs": [
        {
          "output_type": "stream",
          "text": [
            "[1, 4, 9, 16, 25, 36]\n"
          ],
          "name": "stdout"
        }
      ]
    },
    {
      "metadata": {
        "id": "Sr-qvENa1W2W",
        "colab_type": "text"
      },
      "cell_type": "markdown",
      "source": [
        "### Exercise\n",
        "Define a function that uses a for loop to draw the following pattern (out to the n-th line with n asterisks). <br>\n",
        "\\* <br>\n",
        "\\*\\* <br>\n",
        "\\*\\*\\* <br>\n",
        "\\*\\*\\*\\* <br>\n",
        "\\*\\*\\*\\*\\* <br>\n",
        "...\n",
        "\n",
        "**Solution:**"
      ]
    },
    {
      "metadata": {
        "id": "_UCfuU-R1bGo",
        "colab_type": "code",
        "colab": {}
      },
      "cell_type": "code",
      "source": [
        "def star_tree(n):\n",
        "    \"\"\"Your Code Here\"\"\"\n",
        "    for i in range(n):\n",
        "        print(\"*\"*i)"
      ],
      "execution_count": 0,
      "outputs": []
    },
    {
      "metadata": {
        "id": "BA3Ny3W77gEL",
        "colab_type": "code",
        "outputId": "88e5e35c-638a-443e-9741-32e34d75dfe4",
        "colab": {
          "base_uri": "https://localhost:8080/",
          "height": 1717
        }
      },
      "cell_type": "code",
      "source": [
        "star_tree(n=100)"
      ],
      "execution_count": 0,
      "outputs": [
        {
          "output_type": "stream",
          "text": [
            "\n",
            "*\n",
            "**\n",
            "***\n",
            "****\n",
            "*****\n",
            "******\n",
            "*******\n",
            "********\n",
            "*********\n",
            "**********\n",
            "***********\n",
            "************\n",
            "*************\n",
            "**************\n",
            "***************\n",
            "****************\n",
            "*****************\n",
            "******************\n",
            "*******************\n",
            "********************\n",
            "*********************\n",
            "**********************\n",
            "***********************\n",
            "************************\n",
            "*************************\n",
            "**************************\n",
            "***************************\n",
            "****************************\n",
            "*****************************\n",
            "******************************\n",
            "*******************************\n",
            "********************************\n",
            "*********************************\n",
            "**********************************\n",
            "***********************************\n",
            "************************************\n",
            "*************************************\n",
            "**************************************\n",
            "***************************************\n",
            "****************************************\n",
            "*****************************************\n",
            "******************************************\n",
            "*******************************************\n",
            "********************************************\n",
            "*********************************************\n",
            "**********************************************\n",
            "***********************************************\n",
            "************************************************\n",
            "*************************************************\n",
            "**************************************************\n",
            "***************************************************\n",
            "****************************************************\n",
            "*****************************************************\n",
            "******************************************************\n",
            "*******************************************************\n",
            "********************************************************\n",
            "*********************************************************\n",
            "**********************************************************\n",
            "***********************************************************\n",
            "************************************************************\n",
            "*************************************************************\n",
            "**************************************************************\n",
            "***************************************************************\n",
            "****************************************************************\n",
            "*****************************************************************\n",
            "******************************************************************\n",
            "*******************************************************************\n",
            "********************************************************************\n",
            "*********************************************************************\n",
            "**********************************************************************\n",
            "***********************************************************************\n",
            "************************************************************************\n",
            "*************************************************************************\n",
            "**************************************************************************\n",
            "***************************************************************************\n",
            "****************************************************************************\n",
            "*****************************************************************************\n",
            "******************************************************************************\n",
            "*******************************************************************************\n",
            "********************************************************************************\n",
            "*********************************************************************************\n",
            "**********************************************************************************\n",
            "***********************************************************************************\n",
            "************************************************************************************\n",
            "*************************************************************************************\n",
            "**************************************************************************************\n",
            "***************************************************************************************\n",
            "****************************************************************************************\n",
            "*****************************************************************************************\n",
            "******************************************************************************************\n",
            "*******************************************************************************************\n",
            "********************************************************************************************\n",
            "*********************************************************************************************\n",
            "**********************************************************************************************\n",
            "***********************************************************************************************\n",
            "************************************************************************************************\n",
            "*************************************************************************************************\n",
            "**************************************************************************************************\n",
            "***************************************************************************************************\n"
          ],
          "name": "stdout"
        }
      ]
    },
    {
      "metadata": {
        "id": "wQ_M_hQU1E8f",
        "colab_type": "text"
      },
      "cell_type": "markdown",
      "source": [
        "### Exercise\n",
        "\n",
        "**Classic Challenge** : Fizz Buzz\n",
        "\n",
        "Given a list of integers from 1 to 50. \n",
        "- Print \"Fizz\" if the integer is divisible by 3.\n",
        "    - i.e. 3, 6, 9\n",
        "- Print \"Buzz\" if the integer is divisible by 5. \n",
        "    - i.e. 5, 10, 15\n",
        "- Print \"FizzBuzz\" if the integer is divisible by 3 AND 5.\n",
        "    - i.e. 15, 30,  45\n",
        "    \n",
        "Challenge: Do it in as few lines as possible!\n",
        "\n",
        "**Solution:**"
      ]
    },
    {
      "metadata": {
        "id": "Ae_yWLjc1MI2",
        "colab_type": "code",
        "outputId": "546507a9-1960-43a2-be90-231041a8c728",
        "colab": {
          "base_uri": "https://localhost:8080/",
          "height": 408
        }
      },
      "cell_type": "code",
      "source": [
        "for number in range(50):\n",
        "    if ((number % 3 == 0) & (number % 5 == 0)):\n",
        "        print('FizzBuzz')\n",
        "        \n",
        "    elif number % 3 == 0:\n",
        "        print('Fizz')\n",
        "    \n",
        "    elif number % 5 == 0:\n",
        "        print('Buzz')"
      ],
      "execution_count": 0,
      "outputs": [
        {
          "output_type": "stream",
          "text": [
            "FizzBuzz\n",
            "Fizz\n",
            "Buzz\n",
            "Fizz\n",
            "Fizz\n",
            "Buzz\n",
            "Fizz\n",
            "FizzBuzz\n",
            "Fizz\n",
            "Buzz\n",
            "Fizz\n",
            "Fizz\n",
            "Buzz\n",
            "Fizz\n",
            "FizzBuzz\n",
            "Fizz\n",
            "Buzz\n",
            "Fizz\n",
            "Fizz\n",
            "Buzz\n",
            "Fizz\n",
            "FizzBuzz\n",
            "Fizz\n"
          ],
          "name": "stdout"
        }
      ]
    },
    {
      "metadata": {
        "id": "DxzCqyx7eSFB",
        "colab_type": "code",
        "outputId": "af8ea66b-c0e1-4593-e442-9871cc6a8289",
        "colab": {
          "base_uri": "https://localhost:8080/",
          "height": 867
        }
      },
      "cell_type": "code",
      "source": [
        "#[\"Fizz\"*(i%3 == 0) + 'Buzz'*(i%5 == 0) for i in range(50)]\n",
        "\n",
        "for i in range(50): \n",
        "    print(i, \"Fizz\"*(i%3 == 0) + 'Buzz'*(i%5 == 0))"
      ],
      "execution_count": 0,
      "outputs": [
        {
          "output_type": "stream",
          "text": [
            "0 FizzBuzz\n",
            "1 \n",
            "2 \n",
            "3 Fizz\n",
            "4 \n",
            "5 Buzz\n",
            "6 Fizz\n",
            "7 \n",
            "8 \n",
            "9 Fizz\n",
            "10 Buzz\n",
            "11 \n",
            "12 Fizz\n",
            "13 \n",
            "14 \n",
            "15 FizzBuzz\n",
            "16 \n",
            "17 \n",
            "18 Fizz\n",
            "19 \n",
            "20 Buzz\n",
            "21 Fizz\n",
            "22 \n",
            "23 \n",
            "24 Fizz\n",
            "25 Buzz\n",
            "26 \n",
            "27 Fizz\n",
            "28 \n",
            "29 \n",
            "30 FizzBuzz\n",
            "31 \n",
            "32 \n",
            "33 Fizz\n",
            "34 \n",
            "35 Buzz\n",
            "36 Fizz\n",
            "37 \n",
            "38 \n",
            "39 Fizz\n",
            "40 Buzz\n",
            "41 \n",
            "42 Fizz\n",
            "43 \n",
            "44 \n",
            "45 FizzBuzz\n",
            "46 \n",
            "47 \n",
            "48 Fizz\n",
            "49 \n"
          ],
          "name": "stdout"
        }
      ]
    },
    {
      "metadata": {
        "id": "XK9ak2Zh0YNn",
        "colab_type": "text"
      },
      "cell_type": "markdown",
      "source": [
        "___\n",
        "# Modules"
      ]
    },
    {
      "metadata": {
        "id": "N2fIgrp-4wz8",
        "colab_type": "text"
      },
      "cell_type": "markdown",
      "source": [
        "___\n",
        "## Numpy"
      ]
    },
    {
      "metadata": {
        "id": "mdrLjO_m0dIw",
        "colab_type": "code",
        "colab": {}
      },
      "cell_type": "code",
      "source": [
        "import numpy as np"
      ],
      "execution_count": 0,
      "outputs": []
    },
    {
      "metadata": {
        "id": "A4qLkOzP4_hX",
        "colab_type": "text"
      },
      "cell_type": "markdown",
      "source": [
        "### Arrays"
      ]
    },
    {
      "metadata": {
        "id": "6_5I6GNx5Cii",
        "colab_type": "code",
        "outputId": "2c1a55ed-ca34-492d-ae2a-f073d861a1ad",
        "colab": {
          "base_uri": "https://localhost:8080/",
          "height": 68
        }
      },
      "cell_type": "code",
      "source": [
        "arr1 = np.arange(0, 100, 5)\n",
        "print(arr1)\n",
        "\n",
        "arr2 = np.linspace(0, 100, 11)\n",
        "print(arr2)\n",
        "\n",
        "arr3 = np.random.randint(0, 100, 5)\n",
        "print(arr3)"
      ],
      "execution_count": 0,
      "outputs": [
        {
          "output_type": "stream",
          "text": [
            "[ 0  5 10 15 20 25 30 35 40 45 50 55 60 65 70 75 80 85 90 95]\n",
            "[  0.  10.  20.  30.  40.  50.  60.  70.  80.  90. 100.]\n",
            "[60 40 46 90 70]\n"
          ],
          "name": "stdout"
        }
      ]
    },
    {
      "metadata": {
        "id": "3gUXEHVO40uF",
        "colab_type": "text"
      },
      "cell_type": "markdown",
      "source": [
        "___\n",
        "## Matplotlib"
      ]
    },
    {
      "metadata": {
        "id": "auqXJNFk42EB",
        "colab_type": "code",
        "colab": {}
      },
      "cell_type": "code",
      "source": [
        "import matplotlib.pyplot as plt\n",
        "plt.style.use('ggplot')"
      ],
      "execution_count": 0,
      "outputs": []
    },
    {
      "metadata": {
        "id": "bf2mtJMB6BTL",
        "colab_type": "text"
      },
      "cell_type": "markdown",
      "source": [
        "### Scatter Plot"
      ]
    },
    {
      "metadata": {
        "id": "6mDgmDzp5Ts_",
        "colab_type": "code",
        "outputId": "efc6dd85-60a4-4803-9f07-6a5d00a817b4",
        "colab": {
          "base_uri": "https://localhost:8080/",
          "height": 347
        }
      },
      "cell_type": "code",
      "source": [
        "x = arr1\n",
        "y = arr1**2 + 10.0\n",
        "plt.scatter(x, y)\n",
        "plt.show()"
      ],
      "execution_count": 0,
      "outputs": [
        {
          "output_type": "display_data",
          "data": {
            "image/png": "[encoded data removed]",
            "text/plain": [
              "<Figure size 576x396 with 1 Axes>"
            ]
          },
          "metadata": {
            "tags": []
          }
        }
      ]
    },
    {
      "metadata": {
        "id": "vvyf-gBs6Vjd",
        "colab_type": "text"
      },
      "cell_type": "markdown",
      "source": [
        "### Line Plot"
      ]
    },
    {
      "metadata": {
        "id": "NsECzODv6R9w",
        "colab_type": "code",
        "outputId": "49f2ebe7-9332-4843-cb3d-79f62d1f408c",
        "colab": {
          "base_uri": "https://localhost:8080/",
          "height": 347
        }
      },
      "cell_type": "code",
      "source": [
        "x = np.linspace(0, 10, 100)\n",
        "\n",
        "fig = plt.figure()\n",
        "plt.plot(x, np.sin(x), '-')\n",
        "plt.plot(x, np.cos(x), '--');"
      ],
      "execution_count": 0,
      "outputs": [
        {
          "output_type": "display_data",
          "data": {
            "image/png": "[encoded data removed]",
            "text/plain": [
              "<Figure size 576x396 with 1 Axes>"
            ]
          },
          "metadata": {
            "tags": []
          }
        }
      ]
    },
    {
      "metadata": {
        "id": "skn1UIEY6Z4J",
        "colab_type": "text"
      },
      "cell_type": "markdown",
      "source": [
        "### Pie Chart"
      ]
    },
    {
      "metadata": {
        "id": "GalX-D_M6YM2",
        "colab_type": "code",
        "outputId": "6ff12293-ed47-4543-c216-695fe7c93095",
        "colab": {
          "base_uri": "https://localhost:8080/",
          "height": 320
        }
      },
      "cell_type": "code",
      "source": [
        "plt.figure(figsize=(12,5))\n",
        "plt.subplot(1,2,1)\n",
        "plt.pie([10, 20, 30, 40], explode=[0.5,0,0.1,0])\n",
        "plt.subplot(1,2,2)\n",
        "plt.hist(np.random.normal(0, 10, 999999), color='purple')\n",
        "plt.show()"
      ],
      "execution_count": 0,
      "outputs": [
        {
          "output_type": "display_data",
          "data": {
            "image/png": "[encoded data removed]",
            "text/plain": [
              "<Figure size 864x360 with 2 Axes>"
            ]
          },
          "metadata": {
            "tags": []
          }
        }
      ]
    },
    {
      "metadata": {
        "id": "S4m3eYPq6dDu",
        "colab_type": "code",
        "outputId": "727ee14d-cffc-4450-b8e1-3adbeaf66371",
        "colab": {
          "base_uri": "https://localhost:8080/",
          "height": 330
        }
      },
      "cell_type": "code",
      "source": [
        "from mpl_toolkits.mplot3d import Axes3D\n",
        "import matplotlib.pyplot as plt\n",
        "from matplotlib import cm\n",
        "from matplotlib.ticker import LinearLocator, FormatStrFormatter\n",
        "import numpy as np\n",
        "\n",
        "\n",
        "fig = plt.figure()\n",
        "ax = fig.gca(projection='3d')\n",
        "\n",
        "# Make data.\n",
        "X = np.arange(-5, 5, 0.25)\n",
        "Y = np.arange(-5, 5, 0.25)\n",
        "X, Y = np.meshgrid(X, Y)\n",
        "R = np.sqrt(X**2 + Y**2)\n",
        "Z = np.sin(R)\n",
        "\n",
        "# Plot the surface.\n",
        "surf = ax.plot_surface(X, Y, Z, cmap=cm.coolwarm,\n",
        "                       linewidth=0, antialiased=False)\n",
        "\n",
        "# Customize the z axis.\n",
        "ax.set_zlim(-1.01, 1.01)\n",
        "ax.zaxis.set_major_locator(LinearLocator(10))\n",
        "ax.zaxis.set_major_formatter(FormatStrFormatter('%.02f'))\n",
        "\n",
        "# Add a color bar which maps values to colors.\n",
        "fig.colorbar(surf, shrink=0.5, aspect=5)\n",
        "\n",
        "plt.show()"
      ],
      "execution_count": 0,
      "outputs": [
        {
          "output_type": "display_data",
          "data": {
            "image/png": "[encoded data removed]",
            "text/plain": [
              "<Figure size 576x396 with 2 Axes>"
            ]
          },
          "metadata": {
            "tags": []
          }
        }
      ]
    },
    {
      "metadata": {
        "id": "7nyc1hJMcyNz",
        "colab_type": "text"
      },
      "cell_type": "markdown",
      "source": [
        "### Exercise\n",
        "\n",
        "Plot following function on the domain of \\[-2, 2\\]:\n",
        "\n",
        "$$y= f(x) = \\left(\\sqrt{\\cos(x)}\\cdot\\cos(200\\cdot x)+\\sqrt{|x|}-0.7\\right)\\cdot(4-x^2)^{0.01}$$\n",
        "\n",
        "**Solution:**"
      ]
    },
    {
      "metadata": {
        "id": "CbojScHOajhV",
        "colab_type": "code",
        "outputId": "e716b8b7-9ad7-4711-d1ff-1e702c21ebfd",
        "colab": {
          "base_uri": "https://localhost:8080/",
          "height": 381
        }
      },
      "cell_type": "code",
      "source": [
        "# Your Code Here\n",
        "x = np.arange(-2, 2, 0.001)\n",
        "\n",
        "y = (np.sqrt(np.cos(x))*np.cos(200*x)+np.sqrt(np.abs(x))-0.7)*(4-x**2)**(0.01)\n",
        "\n",
        "plt.plot(x,y, color='red')\n",
        "plt.show()"
      ],
      "execution_count": 0,
      "outputs": [
        {
          "output_type": "stream",
          "text": [
            "/usr/local/lib/python3.6/dist-packages/ipykernel_launcher.py:3: RuntimeWarning: invalid value encountered in sqrt\n",
            "  This is separate from the ipykernel package so we can avoid doing imports until\n"
          ],
          "name": "stderr"
        },
        {
          "output_type": "display_data",
          "data": {
            "image/png": "[encoded data removed]",
            "text/plain": [
              "<Figure size 576x396 with 1 Axes>"
            ]
          },
          "metadata": {
            "tags": []
          }
        }
      ]
    },
    {
      "metadata": {
        "id": "dDpLP-NyiO_3",
        "colab_type": "code",
        "colab": {}
      },
      "cell_type": "code",
      "source": [
        ""
      ],
      "execution_count": 0,
      "outputs": []
    }
  ]
}