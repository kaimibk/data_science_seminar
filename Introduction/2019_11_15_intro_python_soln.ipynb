{
 "cells": [
  {
   "cell_type": "markdown",
   "metadata": {
    "colab_type": "text",
    "id": "FSVDMT0enZgV"
   },
   "source": [
    "## Brown Bag #1: Introduction to Python (SOLUTIONS)\n",
    "\n",
    "This Brown Bag will provide the basic programming fundamentals (specifically in Python) to all skill levels. This will be the first step in our Innovation Friday Brown Bag series, where we will apply these fundamentals to build a toolkit to succeed in data science."
   ]
  },
  {
   "cell_type": "markdown",
   "metadata": {
    "colab_type": "text",
    "id": "tglLmpyjoL5Q"
   },
   "source": [
    "## Outline\n",
    "\n",
    "1. What is Python, and why should I care?\n",
    "\n",
    "1. What is programming?\n",
    "\n",
    "1. Intro. to Google Colab\n",
    "\n",
    "1. Intro. to Python Fundamentals\n",
    "\n",
    "1. Local Python Installation with Conda (Time Permitting)"
   ]
  },
  {
   "cell_type": "markdown",
   "metadata": {
    "colab_type": "text",
    "id": "WfUeDApDoh6u"
   },
   "source": [
    "## Introduction to Programming\n",
    "\n",
    "### What does a computer do?\n",
    "\n",
    "1. Executes commands in sequence\n",
    "1. Each command operates on the current state of the machine\n",
    "\n",
    "**Remember:** Computers are _dumb_\n",
    "\n",
    "![alt text](https://imgs.xkcd.com/comics/ai_research_2x.png)\n",
    "\n",
    "### What does code do?\n",
    "\n",
    "Code is nothing more than a stored sequence of commands carried out by the computer. Often times, if a piece of code is broken, it is most likely your fault."
   ]
  },
  {
   "cell_type": "markdown",
   "metadata": {
    "colab_type": "text",
    "id": "LKmAKkOtqN2p"
   },
   "source": [
    "## Standalone Python Topics"
   ]
  },
  {
   "cell_type": "markdown",
   "metadata": {
    "colab_type": "text",
    "id": "UzQ3UM22qZoy"
   },
   "source": [
    "### Functions\n",
    "\n",
    "We will start by introducing two fundamental functions in Python:\n",
    "1. `print()`\n",
    "1. `help()`"
   ]
  },
  {
   "cell_type": "markdown",
   "metadata": {
    "colab_type": "text",
    "id": "MslkDlIdq2PW"
   },
   "source": [
    "#### Print Function\n",
    "As the name implies, this function prints whatever you tell it to. For example,"
   ]
  },
  {
   "cell_type": "code",
   "execution_count": 1,
   "metadata": {
    "colab": {
     "base_uri": "https://localhost:8080/",
     "height": 51
    },
    "colab_type": "code",
    "id": "txg0a4ChnwbE",
    "outputId": "92fc32ea-24be-4a4e-fad2-d8610912c3ed"
   },
   "outputs": [
    {
     "name": "stdout",
     "output_type": "stream",
     "text": [
      "Hello World\n",
      "5\n"
     ]
    }
   ],
   "source": [
    "print('Hello World')\n",
    "print(5)"
   ]
  },
  {
   "cell_type": "markdown",
   "metadata": {
    "colab_type": "text",
    "id": "rt8WoWiIsyVK"
   },
   "source": [
    "`print()` can take multiple parameters:"
   ]
  },
  {
   "cell_type": "code",
   "execution_count": 2,
   "metadata": {
    "colab": {
     "base_uri": "https://localhost:8080/",
     "height": 34
    },
    "colab_type": "code",
    "id": "Cy_pwdsas4jY",
    "outputId": "dbc24c8b-dd37-4409-f12a-f7a3d1793856"
   },
   "outputs": [
    {
     "name": "stdout",
     "output_type": "stream",
     "text": [
      "Hello World\n"
     ]
    }
   ],
   "source": [
    "print('Hello', 'World')\n",
    "# print(4, 2, sep='*')"
   ]
  },
  {
   "cell_type": "markdown",
   "metadata": {
    "colab_type": "text",
    "id": "ZkbfptGjrQED"
   },
   "source": [
    "#### Exercise\n",
    "Use the print function to print your name and age\n",
    "\n",
    "**Solution:**"
   ]
  },
  {
   "cell_type": "code",
   "execution_count": 3,
   "metadata": {
    "colab": {
     "base_uri": "https://localhost:8080/",
     "height": 34
    },
    "colab_type": "code",
    "id": "3TRPm7tvrLJs",
    "outputId": "38a9d6db-3442-443b-da74-2164feee6e18"
   },
   "outputs": [
    {
     "name": "stdout",
     "output_type": "stream",
     "text": [
      "your name and age\n"
     ]
    }
   ],
   "source": [
    "print('your name and age')"
   ]
  },
  {
   "cell_type": "markdown",
   "metadata": {
    "colab_type": "text",
    "id": "zmxgfaVwrkPX"
   },
   "source": [
    "#### Help Function\n",
    "This function will tell how how to use a certain function, and what parameters it takes."
   ]
  },
  {
   "cell_type": "code",
   "execution_count": 4,
   "metadata": {
    "colab": {
     "base_uri": "https://localhost:8080/",
     "height": 241
    },
    "colab_type": "code",
    "id": "uoIWkvTRrigL",
    "outputId": "e7465a26-d904-4bd5-96d4-59d6eab26e4c"
   },
   "outputs": [
    {
     "name": "stdout",
     "output_type": "stream",
     "text": [
      "Help on built-in function print in module builtins:\n",
      "\n",
      "print(...)\n",
      "    print(value, ..., sep=' ', end='\\n', file=sys.stdout, flush=False)\n",
      "    \n",
      "    Prints the values to a stream, or to sys.stdout by default.\n",
      "    Optional keyword arguments:\n",
      "    file:  a file-like object (stream); defaults to the current sys.stdout.\n",
      "    sep:   string inserted between values, default a space.\n",
      "    end:   string appended after the last value, default a newline.\n",
      "    flush: whether to forcibly flush the stream.\n",
      "\n"
     ]
    }
   ],
   "source": [
    "help(print)"
   ]
  },
  {
   "cell_type": "markdown",
   "metadata": {
    "colab_type": "text",
    "id": "8ZjYMa3Xr-A7"
   },
   "source": [
    "#### Exercise\n",
    "\n",
    "There are many built-in functions available in Python 3.6, for a list see [here.](https://docs.python.org/2/library/functions.html)\n",
    "\n",
    "Use the help function to check the following built in functions:\n",
    "1. `list`\n",
    "1. `sum`\n",
    "1. `min`\n",
    "\n",
    "**Solution:**"
   ]
  },
  {
   "cell_type": "code",
   "execution_count": 5,
   "metadata": {
    "colab": {
     "base_uri": "https://localhost:8080/",
     "height": 2383
    },
    "colab_type": "code",
    "id": "UXSleknKr89o",
    "outputId": "496c56f0-db50-46c4-c47c-9f9e32901e9c"
   },
   "outputs": [
    {
     "name": "stdout",
     "output_type": "stream",
     "text": [
      "Help on list object:\n",
      "\n",
      "class list(object)\n",
      " |  list(iterable=(), /)\n",
      " |  \n",
      " |  Built-in mutable sequence.\n",
      " |  \n",
      " |  If no argument is given, the constructor creates a new empty list.\n",
      " |  The argument must be an iterable if specified.\n",
      " |  \n",
      " |  Methods defined here:\n",
      " |  \n",
      " |  __add__(self, value, /)\n",
      " |      Return self+value.\n",
      " |  \n",
      " |  __contains__(self, key, /)\n",
      " |      Return key in self.\n",
      " |  \n",
      " |  __delitem__(self, key, /)\n",
      " |      Delete self[key].\n",
      " |  \n",
      " |  __eq__(self, value, /)\n",
      " |      Return self==value.\n",
      " |  \n",
      " |  __ge__(self, value, /)\n",
      " |      Return self>=value.\n",
      " |  \n",
      " |  __getattribute__(self, name, /)\n",
      " |      Return getattr(self, name).\n",
      " |  \n",
      " |  __getitem__(...)\n",
      " |      x.__getitem__(y) <==> x[y]\n",
      " |  \n",
      " |  __gt__(self, value, /)\n",
      " |      Return self>value.\n",
      " |  \n",
      " |  __iadd__(self, value, /)\n",
      " |      Implement self+=value.\n",
      " |  \n",
      " |  __imul__(self, value, /)\n",
      " |      Implement self*=value.\n",
      " |  \n",
      " |  __init__(self, /, *args, **kwargs)\n",
      " |      Initialize self.  See help(type(self)) for accurate signature.\n",
      " |  \n",
      " |  __iter__(self, /)\n",
      " |      Implement iter(self).\n",
      " |  \n",
      " |  __le__(self, value, /)\n",
      " |      Return self<=value.\n",
      " |  \n",
      " |  __len__(self, /)\n",
      " |      Return len(self).\n",
      " |  \n",
      " |  __lt__(self, value, /)\n",
      " |      Return self<value.\n",
      " |  \n",
      " |  __mul__(self, value, /)\n",
      " |      Return self*value.\n",
      " |  \n",
      " |  __ne__(self, value, /)\n",
      " |      Return self!=value.\n",
      " |  \n",
      " |  __repr__(self, /)\n",
      " |      Return repr(self).\n",
      " |  \n",
      " |  __reversed__(self, /)\n",
      " |      Return a reverse iterator over the list.\n",
      " |  \n",
      " |  __rmul__(self, value, /)\n",
      " |      Return value*self.\n",
      " |  \n",
      " |  __setitem__(self, key, value, /)\n",
      " |      Set self[key] to value.\n",
      " |  \n",
      " |  __sizeof__(self, /)\n",
      " |      Return the size of the list in memory, in bytes.\n",
      " |  \n",
      " |  append(self, object, /)\n",
      " |      Append object to the end of the list.\n",
      " |  \n",
      " |  clear(self, /)\n",
      " |      Remove all items from list.\n",
      " |  \n",
      " |  copy(self, /)\n",
      " |      Return a shallow copy of the list.\n",
      " |  \n",
      " |  count(self, value, /)\n",
      " |      Return number of occurrences of value.\n",
      " |  \n",
      " |  extend(self, iterable, /)\n",
      " |      Extend list by appending elements from the iterable.\n",
      " |  \n",
      " |  index(self, value, start=0, stop=9223372036854775807, /)\n",
      " |      Return first index of value.\n",
      " |      \n",
      " |      Raises ValueError if the value is not present.\n",
      " |  \n",
      " |  insert(self, index, object, /)\n",
      " |      Insert object before index.\n",
      " |  \n",
      " |  pop(self, index=-1, /)\n",
      " |      Remove and return item at index (default last).\n",
      " |      \n",
      " |      Raises IndexError if list is empty or index is out of range.\n",
      " |  \n",
      " |  remove(self, value, /)\n",
      " |      Remove first occurrence of value.\n",
      " |      \n",
      " |      Raises ValueError if the value is not present.\n",
      " |  \n",
      " |  reverse(self, /)\n",
      " |      Reverse *IN PLACE*.\n",
      " |  \n",
      " |  sort(self, /, *, key=None, reverse=False)\n",
      " |      Stable sort *IN PLACE*.\n",
      " |  \n",
      " |  ----------------------------------------------------------------------\n",
      " |  Static methods defined here:\n",
      " |  \n",
      " |  __new__(*args, **kwargs) from builtins.type\n",
      " |      Create and return a new object.  See help(type) for accurate signature.\n",
      " |  \n",
      " |  ----------------------------------------------------------------------\n",
      " |  Data and other attributes defined here:\n",
      " |  \n",
      " |  __hash__ = None\n",
      "\n",
      "Help on built-in function sum in module builtins:\n",
      "\n",
      "sum(iterable, start=0, /)\n",
      "    Return the sum of a 'start' value (default: 0) plus an iterable of numbers\n",
      "    \n",
      "    When the iterable is empty, return the start value.\n",
      "    This function is intended specifically for use with numeric values and may\n",
      "    reject non-numeric types.\n",
      "\n",
      "Help on built-in function min in module builtins:\n",
      "\n",
      "min(...)\n",
      "    min(iterable, *[, default=obj, key=func]) -> value\n",
      "    min(arg1, arg2, *args, *[, key=func]) -> value\n",
      "    \n",
      "    With a single iterable argument, return its smallest item. The\n",
      "    default keyword-only argument specifies an object to return if\n",
      "    the provided iterable is empty.\n",
      "    With two or more arguments, return the smallest argument.\n",
      "\n"
     ]
    }
   ],
   "source": [
    "# Number 1\n",
    "help(list())\n",
    "\n",
    "# Number 2\n",
    "help(sum)\n",
    "\n",
    "# Number 3\n",
    "help(min)"
   ]
  },
  {
   "cell_type": "markdown",
   "metadata": {
    "colab_type": "text",
    "id": "dT11wI4XuOv6"
   },
   "source": [
    "### Data Types Part 1\n",
    "\n",
    "There are various data types, a few common examples are:\n",
    "\n",
    "1. `int` : integer\n",
    "1. `float` : floating point (decimal number)\n",
    "1. `str` : string (text)\n",
    "1. `bool` : boolean (i.e. True/False)\n",
    "\n",
    "For example:"
   ]
  },
  {
   "cell_type": "code",
   "execution_count": 6,
   "metadata": {
    "colab": {},
    "colab_type": "code",
    "id": "7XCvOL7ZvPOJ"
   },
   "outputs": [],
   "source": [
    "MY_INTEGER = 2\n",
    "MY_FLOAT = 3.1415\n",
    "MY_STRING = 'apple'\n",
    "MY_BOOLEAN = True"
   ]
  },
  {
   "cell_type": "markdown",
   "metadata": {
    "colab_type": "text",
    "id": "DF-ReaKHvdtb"
   },
   "source": [
    "We can also check the `type` of variables:"
   ]
  },
  {
   "cell_type": "code",
   "execution_count": 7,
   "metadata": {
    "colab": {
     "base_uri": "https://localhost:8080/",
     "height": 85
    },
    "colab_type": "code",
    "id": "n4Fz2WxNvkho",
    "outputId": "c115fdb4-c0c6-424c-d926-5f0d9b90bfa8"
   },
   "outputs": [
    {
     "name": "stdout",
     "output_type": "stream",
     "text": [
      "<class 'int'>\n",
      "<class 'float'>\n",
      "<class 'str'>\n",
      "<class 'bool'>\n"
     ]
    }
   ],
   "source": [
    "print(type(MY_INTEGER))\n",
    "print(type(MY_FLOAT))\n",
    "print(type(MY_STRING))\n",
    "print(type(MY_BOOLEAN))"
   ]
  },
  {
   "cell_type": "markdown",
   "metadata": {
    "colab_type": "text",
    "id": "VLuGRicFwnyR"
   },
   "source": [
    "Another useful feature is _type casting_"
   ]
  },
  {
   "cell_type": "code",
   "execution_count": 8,
   "metadata": {
    "colab": {
     "base_uri": "https://localhost:8080/",
     "height": 68
    },
    "colab_type": "code",
    "id": "jeTmrxC6wvOI",
    "outputId": "ebd99baf-9a15-42b2-9679-72f2e2e52f33"
   },
   "outputs": [
    {
     "name": "stdout",
     "output_type": "stream",
     "text": [
      "2.0\n",
      "3\n",
      "True\n"
     ]
    }
   ],
   "source": [
    "print(float(MY_INTEGER))\n",
    "print(int(MY_FLOAT))\n",
    "print(bool(MY_INTEGER))"
   ]
  },
  {
   "cell_type": "markdown",
   "metadata": {
    "colab_type": "text",
    "id": "dXnSJ3oKwgfL"
   },
   "source": [
    "#### Exercise\n",
    "1. Does int() correctly round floats?\n",
    "1. What are the numerical equivalents of booleans?\n",
    "1. What strings can you successfully cast into ints, floats, and booleans?\n",
    "\n",
    "**Solution:**"
   ]
  },
  {
   "cell_type": "code",
   "execution_count": 9,
   "metadata": {
    "colab": {
     "base_uri": "https://localhost:8080/",
     "height": 136
    },
    "colab_type": "code",
    "id": "n4ygy74Kw4I6",
    "outputId": "67bbecd9-5be7-41d6-8b8d-b963fdcc19ce"
   },
   "outputs": [
    {
     "name": "stdout",
     "output_type": "stream",
     "text": [
      "3\n",
      "2\n",
      "1.0\n",
      "0.0\n",
      "5.0\n",
      "inf\n",
      "True\n"
     ]
    }
   ],
   "source": [
    "# Number 1\n",
    "print(int(3.1415))\n",
    "print(int(2.99))\n",
    "\n",
    "# Number 2\n",
    "print(float(True))\n",
    "print(float(False))\n",
    "\n",
    "# Number 3\n",
    "print(float('5'))\n",
    "print(float('inf'))\n",
    "print(bool(6))\n"
   ]
  },
  {
   "cell_type": "markdown",
   "metadata": {
    "colab_type": "text",
    "id": "qvPWI_kkuebj"
   },
   "source": [
    "#### Note on Naming Schemes\n",
    "\n",
    "1. May consist of letters, numbers, and underscores\n",
    "1. Cannot start with a number\n",
    "1. Is case sensitive\n",
    "\n",
    "For example, the following line returns an error, why?"
   ]
  },
  {
   "cell_type": "code",
   "execution_count": 10,
   "metadata": {
    "colab": {
     "base_uri": "https://localhost:8080/",
     "height": 130
    },
    "colab_type": "code",
    "id": "GTDjrs5dshFD",
    "outputId": "850f6bee-fd2c-453e-f683-73db10bc70f1"
   },
   "outputs": [
    {
     "ename": "SyntaxError",
     "evalue": "invalid token (<ipython-input-10-603d8ca9dc7d>, line 1)",
     "output_type": "error",
     "traceback": [
      "\u001b[0;36m  File \u001b[0;32m\"<ipython-input-10-603d8ca9dc7d>\"\u001b[0;36m, line \u001b[0;32m1\u001b[0m\n\u001b[0;31m    5_FIVE = 5\u001b[0m\n\u001b[0m     ^\u001b[0m\n\u001b[0;31mSyntaxError\u001b[0m\u001b[0;31m:\u001b[0m invalid token\n"
     ]
    }
   ],
   "source": [
    "5_FIVE = 5\n",
    "print(5_FIVE)"
   ]
  },
  {
   "cell_type": "markdown",
   "metadata": {
    "colab_type": "text",
    "id": "rxU2stZPv6tc"
   },
   "source": [
    "It is also a good idea to chose variable names that are useful, for example, `blah = 3.14`, isn't particularly useful. Perhaps `pi = 3.14` is a better choice.\n"
   ]
  },
  {
   "cell_type": "markdown",
   "metadata": {
    "colab_type": "text",
    "id": "KNrB61rcu_Rm"
   },
   "source": [
    "## Basic Math\n",
    "\n",
    "Python is a very valuable tool for evaluating mathematical expressions. Here are some basic mathmatical operations you can peform in Python."
   ]
  },
  {
   "cell_type": "code",
   "execution_count": null,
   "metadata": {
    "colab": {},
    "colab_type": "code",
    "id": "hkv9H6DSu-ZM"
   },
   "outputs": [],
   "source": [
    "A = 2\n",
    "B = 4.5\n",
    "C = \"apple\"\n",
    "\n",
    "print(A+B)\n",
    "print(A-B)\n",
    "print(A*B)\n",
    "print(A/B)\n",
    "print(C+str(A))"
   ]
  },
  {
   "cell_type": "markdown",
   "metadata": {
    "colab_type": "text",
    "id": "w0n1VkFrx6ZC"
   },
   "source": [
    "### Exercise\n",
    "1. What do the following operators do?\n",
    "    - `**`\n",
    "    - `//`\n",
    "    - `%`\n",
    "1. What combinations of data types work and don't work?\n",
    "1. Did you find anything you didn't expect?\n",
    "\n",
    "**Solution:**"
   ]
  },
  {
   "cell_type": "code",
   "execution_count": null,
   "metadata": {
    "colab": {},
    "colab_type": "code",
    "id": "iswsIq5Mutjx"
   },
   "outputs": [],
   "source": [
    "# Number 1\n",
    "print(3**3)\n",
    "print(20*'==')\n",
    "print(10//3)\n",
    "print(20*'==')\n",
    "print(10%3)\n",
    "\n",
    "# Number 2\n",
    "print(3**'apple')\n",
    "\n",
    "# Number 3\n",
    "print(20*'==')"
   ]
  },
  {
   "cell_type": "markdown",
   "metadata": {
    "colab_type": "text",
    "id": "NrWgj9I5y063"
   },
   "source": [
    "### Conditionals"
   ]
  },
  {
   "cell_type": "markdown",
   "metadata": {
    "colab_type": "text",
    "id": "U2RsrmDo11E2"
   },
   "source": [
    "#### Conditionals with Math"
   ]
  },
  {
   "cell_type": "code",
   "execution_count": null,
   "metadata": {
    "colab": {
     "base_uri": "https://localhost:8080/",
     "height": 119
    },
    "colab_type": "code",
    "id": "WvAcwHFVy_Rt",
    "outputId": "50e109c7-fba6-49fc-e031-97db6420256a"
   },
   "outputs": [],
   "source": [
    "print(3 == 3)\n",
    "print(3 > 5)\n",
    "print(3 < 5)\n",
    "print(1 <= 2)\n",
    "print(2 >= 1)\n",
    "print(2 != 1)"
   ]
  },
  {
   "cell_type": "code",
   "execution_count": null,
   "metadata": {
    "colab": {
     "base_uri": "https://localhost:8080/",
     "height": 68
    },
    "colab_type": "code",
    "id": "hcrZ9lsQ16Tx",
    "outputId": "a3bf123d-33a9-414b-8b6a-11f6ec3e2d2c"
   },
   "outputs": [],
   "source": [
    "A = 5/3\n",
    "B = 1 + 2/3\n",
    "print(A == B)\n",
    "print(A)\n",
    "print(B)"
   ]
  },
  {
   "cell_type": "code",
   "execution_count": null,
   "metadata": {
    "colab": {
     "base_uri": "https://localhost:8080/",
     "height": 85
    },
    "colab_type": "code",
    "id": "epUkFljZ19xk",
    "outputId": "6a8773aa-2949-4d78-cd5d-a1bca86791ac"
   },
   "outputs": [],
   "source": [
    "print(\"apple\" == \"banana\")\n",
    "print(len(\"apple\") == 5)\n",
    "print(\"b\" in \"banana\")\n",
    "print(\"q\" in \"apple\")"
   ]
  },
  {
   "cell_type": "markdown",
   "metadata": {
    "colab_type": "text",
    "id": "Hq-Auct3yw7R"
   },
   "source": [
    "### Functions"
   ]
  },
  {
   "cell_type": "code",
   "execution_count": null,
   "metadata": {
    "colab": {},
    "colab_type": "code",
    "id": "472SFFY2ydA5"
   },
   "outputs": [],
   "source": [
    "def my_first_function():\n",
    "    print('I made my first function!')\n",
    "    \n",
    "my_first_function()"
   ]
  },
  {
   "cell_type": "markdown",
   "metadata": {
    "colab_type": "text",
    "id": "4w_4-K0C2RfT"
   },
   "source": [
    "We can also introduce parameters into our functions."
   ]
  },
  {
   "cell_type": "code",
   "execution_count": null,
   "metadata": {
    "colab": {
     "base_uri": "https://localhost:8080/",
     "height": 51
    },
    "colab_type": "code",
    "id": "DidDE0w42WJQ",
    "outputId": "bc848148-856e-41a1-96ce-39079e09968b"
   },
   "outputs": [],
   "source": [
    "def newton_force(mass, accel=9.81):\n",
    "    return mass * accel\n",
    "\n",
    "force = newton_force(mass=100)\n",
    "\n",
    "print(force, '[N]')\n",
    "\n",
    "force2 = newton_force(accel=100, mass=100)\n",
    "\n",
    "print(force2, '[N]')"
   ]
  },
  {
   "cell_type": "markdown",
   "metadata": {
    "colab_type": "text",
    "id": "sABPQhA13Bi-"
   },
   "source": [
    "#### Exercise\n",
    "Create a function which returns the hypotenuse of a right triangle. Recall: $c^2 = a^2 + b^2$. $c = \\sqrt{a^2 + b^2}$\n",
    "\n",
    "**Solution:**"
   ]
  },
  {
   "cell_type": "code",
   "execution_count": null,
   "metadata": {
    "colab": {},
    "colab_type": "code",
    "id": "WaAzjmF-3Sm0"
   },
   "outputs": [],
   "source": [
    "def hypot(a, b):\n",
    "    \"\"\"Put Your Code Here\"\"\"\n",
    "    return (a**2 + b**2)**0.5"
   ]
  },
  {
   "cell_type": "code",
   "execution_count": null,
   "metadata": {
    "colab": {},
    "colab_type": "code",
    "id": "-XNagk8Jys0e"
   },
   "outputs": [],
   "source": [
    "hypot(3, 4)"
   ]
  },
  {
   "cell_type": "markdown",
   "metadata": {
    "colab_type": "text",
    "id": "t9vM7RPIy_6o"
   },
   "source": [
    "### Flow Control"
   ]
  },
  {
   "cell_type": "markdown",
   "metadata": {
    "colab_type": "text",
    "id": "1i9hl8auzBjP"
   },
   "source": [
    "#### If Statements"
   ]
  },
  {
   "cell_type": "code",
   "execution_count": null,
   "metadata": {
    "colab": {},
    "colab_type": "code",
    "id": "9mt6OhmPzApk"
   },
   "outputs": [],
   "source": [
    "def do_it(a, b):\n",
    "    if a == b:\n",
    "        print(\"Yes\")\n",
    "    elif b > a:\n",
    "        print(\"No\")\n",
    "    elif b < a:\n",
    "        print(\"This other thing!\")\n",
    "    else:\n",
    "        print(\"I give up\")\n",
    "\n",
    "do_it(3, 3)\n",
    "do_it(10, 100)\n",
    "do_it(0.1, 0)"
   ]
  },
  {
   "cell_type": "markdown",
   "metadata": {
    "colab_type": "text",
    "id": "FRJflvtZzEu0"
   },
   "source": [
    "#### While Loops"
   ]
  },
  {
   "cell_type": "code",
   "execution_count": null,
   "metadata": {
    "colab": {},
    "colab_type": "code",
    "id": "kJ1iZ6hJzHYa"
   },
   "outputs": [],
   "source": [
    "A = 5\n",
    "B = 1\n",
    "\n",
    "while A > B:\n",
    "    print('{} is greater than {}'.format(A,B))\n",
    "    print(f\"{A} is greater than {B}\")\n",
    "    B += 1  # equivalent to B = B + 1"
   ]
  },
  {
   "cell_type": "markdown",
   "metadata": {
    "colab_type": "text",
    "id": "MRrwslCkzQqE"
   },
   "source": [
    "### Data Types Part 2 - Electric Boogaloo"
   ]
  },
  {
   "cell_type": "markdown",
   "metadata": {
    "colab_type": "text",
    "id": "G4rvv5Sx1VH9"
   },
   "source": [
    "#### Lists"
   ]
  },
  {
   "cell_type": "code",
   "execution_count": null,
   "metadata": {
    "colab": {},
    "colab_type": "code",
    "id": "FFSbouLqzTBb"
   },
   "outputs": [],
   "source": [
    "my_list = [\n",
    "    \"apple\", \n",
    "    \"banana\", \n",
    "    \"shark\", \n",
    "    15\n",
    "]\n",
    "print(my_list)"
   ]
  },
  {
   "cell_type": "markdown",
   "metadata": {
    "colab_type": "text",
    "id": "QdJlteiK1itG"
   },
   "source": [
    "#### Adding and Removing Elements"
   ]
  },
  {
   "cell_type": "code",
   "execution_count": null,
   "metadata": {
    "colab": {},
    "colab_type": "code",
    "id": "F4kAc5MU1nS7"
   },
   "outputs": [],
   "source": [
    "my_list.append(\"ballistic missile\")\n",
    "print(my_list)"
   ]
  },
  {
   "cell_type": "code",
   "execution_count": null,
   "metadata": {
    "colab": {},
    "colab_type": "code",
    "id": "jeBfi18O1rGB"
   },
   "outputs": [],
   "source": [
    "my_list.remove(\"banana\")\n",
    "print(my_list)"
   ]
  },
  {
   "cell_type": "markdown",
   "metadata": {
    "colab_type": "text",
    "id": "aHNcxH-x4rjE"
   },
   "source": [
    "#### List Indexing and Slicing"
   ]
  },
  {
   "cell_type": "code",
   "execution_count": null,
   "metadata": {
    "colab": {},
    "colab_type": "code",
    "id": "FfYNBUd44tr0"
   },
   "outputs": [],
   "source": [
    "print(my_list[0])\n",
    "print(my_list[3])\n",
    "print(my_list[1:3])\n",
    "print(my_list[-1])"
   ]
  },
  {
   "cell_type": "markdown",
   "metadata": {
    "colab_type": "text",
    "id": "ozW5vXpW41dO"
   },
   "source": [
    "#### Exercise\n",
    "\n",
    "Create a function which takes a list as a parameter and an integer, n. Return the n-th entry of the list.\n",
    "\n",
    "**Solution:**"
   ]
  },
  {
   "cell_type": "code",
   "execution_count": null,
   "metadata": {
    "colab": {},
    "colab_type": "code",
    "id": "HElIDPe-5Ccm"
   },
   "outputs": [],
   "source": [
    "def nth_entry(a_list, n):\n",
    "    \"\"\"Your Code Here\"\"\"\n",
    "    return a_list[n]\n",
    "    \n",
    "nth_entry(my_list, -1)"
   ]
  },
  {
   "cell_type": "markdown",
   "metadata": {
    "colab_type": "text",
    "id": "P6wT7a6U5qax"
   },
   "source": [
    "#### Multi-Dimensional Arrays"
   ]
  },
  {
   "cell_type": "code",
   "execution_count": null,
   "metadata": {
    "colab": {},
    "colab_type": "code",
    "id": "ewNKJPnn7BHa"
   },
   "outputs": [],
   "source": [
    "array_2d = [[0,1,2,3], [2,5,3,2], [6,3,1,7]]\n",
    "print(array_2d)"
   ]
  },
  {
   "cell_type": "code",
   "execution_count": null,
   "metadata": {
    "colab": {},
    "colab_type": "code",
    "id": "XqTLhY3u7Euf"
   },
   "outputs": [],
   "source": [
    "print(array_2d[0])\n",
    "print(array_2d[1][0:2])\n",
    "print(array_2d[0:2])\n",
    "print(array_2d[-1][-1])"
   ]
  },
  {
   "cell_type": "markdown",
   "metadata": {
    "colab_type": "text",
    "id": "HRJiaMQ70Rm7"
   },
   "source": [
    "### Flow Control Part 2 - Back 2 Tha Hood"
   ]
  },
  {
   "cell_type": "code",
   "execution_count": null,
   "metadata": {
    "colab": {},
    "colab_type": "code",
    "id": "eEHETZpL0XYS"
   },
   "outputs": [],
   "source": [
    "for item in my_list:\n",
    "    print(item)"
   ]
  },
  {
   "cell_type": "code",
   "execution_count": null,
   "metadata": {
    "colab": {},
    "colab_type": "code",
    "id": "SNCrY3vO7SAR"
   },
   "outputs": [],
   "source": [
    "my_list_2 = [1,2,3,4,5,6]\n",
    "\n",
    "for item in my_list_2:\n",
    "    print(item**2 + 3.8*item + 5.1)"
   ]
  },
  {
   "cell_type": "code",
   "execution_count": null,
   "metadata": {
    "colab": {},
    "colab_type": "code",
    "id": "cSGuQA5H7UIh"
   },
   "outputs": [],
   "source": [
    "for item in my_list_2:\n",
    "    if item > 3:\n",
    "        print(item, \"True\")\n",
    "    else:\n",
    "        print(item, \"False\")"
   ]
  },
  {
   "cell_type": "markdown",
   "metadata": {
    "colab_type": "text",
    "id": "XvAcila07app"
   },
   "source": [
    "**`range()`** function"
   ]
  },
  {
   "cell_type": "code",
   "execution_count": null,
   "metadata": {
    "colab": {},
    "colab_type": "code",
    "id": "rKZ59r-Y7WCh"
   },
   "outputs": [],
   "source": [
    "my_range = range(len(my_list))\n",
    "for i in my_range:\n",
    "    print('{}: {}'.format(i, my_list[i]))"
   ]
  },
  {
   "cell_type": "markdown",
   "metadata": {
    "colab_type": "text",
    "id": "64_hVKwH7heg"
   },
   "source": [
    "#### List Comprehension"
   ]
  },
  {
   "cell_type": "code",
   "execution_count": null,
   "metadata": {
    "colab": {},
    "colab_type": "code",
    "id": "2MKcW0cv7Ycc"
   },
   "outputs": [],
   "source": [
    "my_list_3 = [i**2 for i in my_list_2]\n",
    "print(my_list_3)"
   ]
  },
  {
   "cell_type": "markdown",
   "metadata": {
    "colab_type": "text",
    "id": "Sr-qvENa1W2W"
   },
   "source": [
    "#### Exercise\n",
    "Define a function that uses a for loop to draw the following pattern (out to the n-th line with n asterisks). <br>\n",
    "\\* <br>\n",
    "\\*\\* <br>\n",
    "\\*\\*\\* <br>\n",
    "\\*\\*\\*\\* <br>\n",
    "\\*\\*\\*\\*\\* <br>\n",
    "...\n",
    "\n",
    "**Solution:**"
   ]
  },
  {
   "cell_type": "code",
   "execution_count": null,
   "metadata": {},
   "outputs": [],
   "source": [
    "list(range(5))"
   ]
  },
  {
   "cell_type": "code",
   "execution_count": null,
   "metadata": {
    "colab": {},
    "colab_type": "code",
    "id": "_UCfuU-R1bGo"
   },
   "outputs": [],
   "source": [
    "def star_tree(n):\n",
    "    \"\"\"Your Code Here\"\"\"\n",
    "    for i in range(n):\n",
    "        print('*'*(i+1))"
   ]
  },
  {
   "cell_type": "code",
   "execution_count": null,
   "metadata": {
    "colab": {
     "base_uri": "https://localhost:8080/",
     "height": 164
    },
    "colab_type": "code",
    "id": "BA3Ny3W77gEL",
    "outputId": "ce90f160-ee70-41b9-f2fc-66c1dbde9961"
   },
   "outputs": [],
   "source": [
    "star_tree(n=5)"
   ]
  },
  {
   "cell_type": "markdown",
   "metadata": {
    "colab_type": "text",
    "id": "wQ_M_hQU1E8f"
   },
   "source": [
    "#### Exercise\n",
    "\n",
    "**Classic Challenge** : Fizz Buzz\n",
    "\n",
    "Given a list of integers from 1 to 50. \n",
    "- Print \"Fizz\" if the integer is divisible by 3.\n",
    "    - i.e. 3, 6, 9\n",
    "- Print \"Buzz\" if the integer is divisible by 5. \n",
    "    - i.e. 5, 10, 15\n",
    "- Print \"FizzBuzz\" if the integer is divisible by 3 AND 5.\n",
    "    - i.e. 15, 30,  45\n",
    "    \n",
    "Challenge: Do it in as few lines as possible!\n",
    "\n",
    "**Solution:**"
   ]
  },
  {
   "cell_type": "code",
   "execution_count": null,
   "metadata": {
    "colab": {},
    "colab_type": "code",
    "id": "Ae_yWLjc1MI2"
   },
   "outputs": [],
   "source": [
    "for num in range(1, 50): \n",
    "    print(num, \"Fizz\"*(num%3 == 0) + \"Buzz\"*(num%5 == 0))"
   ]
  },
  {
   "cell_type": "markdown",
   "metadata": {
    "colab_type": "text",
    "id": "XK9ak2Zh0YNn"
   },
   "source": [
    "## Modules"
   ]
  },
  {
   "cell_type": "markdown",
   "metadata": {
    "colab_type": "text",
    "id": "N2fIgrp-4wz8"
   },
   "source": [
    "### Numpy"
   ]
  },
  {
   "cell_type": "code",
   "execution_count": null,
   "metadata": {
    "colab": {},
    "colab_type": "code",
    "id": "mdrLjO_m0dIw"
   },
   "outputs": [],
   "source": [
    "import numpy as np  # load in the library and alias it as np, for short"
   ]
  },
  {
   "cell_type": "markdown",
   "metadata": {
    "colab_type": "text",
    "id": "A4qLkOzP4_hX"
   },
   "source": [
    "#### Arrays"
   ]
  },
  {
   "cell_type": "code",
   "execution_count": null,
   "metadata": {
    "colab": {
     "base_uri": "https://localhost:8080/",
     "height": 67
    },
    "colab_type": "code",
    "id": "6_5I6GNx5Cii",
    "outputId": "0293f8e0-9c97-440e-8c3a-9f859c3cd2e0"
   },
   "outputs": [],
   "source": [
    "arr1 = np.arange(0, 100, 5)\n",
    "print(arr1)\n",
    "\n",
    "arr2 = np.linspace(0, 100, 9)\n",
    "print(arr2)\n",
    "\n",
    "arr3 = np.random.randint(0, 100, 100)\n",
    "print(arr3)"
   ]
  },
  {
   "cell_type": "markdown",
   "metadata": {
    "colab_type": "text",
    "id": "3gUXEHVO40uF"
   },
   "source": [
    "### Matplotlib"
   ]
  },
  {
   "cell_type": "code",
   "execution_count": null,
   "metadata": {
    "colab": {},
    "colab_type": "code",
    "id": "auqXJNFk42EB"
   },
   "outputs": [],
   "source": [
    "import matplotlib.pyplot as plt  # import the pyplot module apart of matplotlib, and alias as plt"
   ]
  },
  {
   "cell_type": "markdown",
   "metadata": {
    "colab_type": "text",
    "id": "bf2mtJMB6BTL"
   },
   "source": [
    "#### Scatter Plot"
   ]
  },
  {
   "cell_type": "code",
   "execution_count": null,
   "metadata": {
    "colab": {
     "base_uri": "https://localhost:8080/",
     "height": 347
    },
    "colab_type": "code",
    "id": "6mDgmDzp5Ts_",
    "outputId": "2f4fb210-b90c-4e14-f4c9-f15ea1c1bffd"
   },
   "outputs": [],
   "source": [
    "plt.scatter(arr1, arr1**2 + 10.0)\n",
    "plt.show()"
   ]
  },
  {
   "cell_type": "markdown",
   "metadata": {
    "colab_type": "text",
    "id": "vvyf-gBs6Vjd"
   },
   "source": [
    "#### Line Plot"
   ]
  },
  {
   "cell_type": "code",
   "execution_count": null,
   "metadata": {
    "colab": {
     "base_uri": "https://localhost:8080/",
     "height": 347
    },
    "colab_type": "code",
    "id": "NsECzODv6R9w",
    "outputId": "926d2289-b8b0-4eaa-d94d-01dcaf9bb861"
   },
   "outputs": [],
   "source": [
    "x = np.linspace(0, 10, 100)\n",
    "\n",
    "fig = plt.figure()\n",
    "plt.plot(x, np.sin(x), ':', color='orange')\n",
    "plt.plot(x, np.cos(x), '--');"
   ]
  },
  {
   "cell_type": "markdown",
   "metadata": {
    "colab_type": "text",
    "id": "skn1UIEY6Z4J"
   },
   "source": [
    "#### Pie Chart"
   ]
  },
  {
   "cell_type": "code",
   "execution_count": null,
   "metadata": {
    "colab": {
     "base_uri": "https://localhost:8080/",
     "height": 320
    },
    "colab_type": "code",
    "id": "GalX-D_M6YM2",
    "outputId": "a5a0f95f-ed56-4cb3-bdee-37b35e1de6e7"
   },
   "outputs": [],
   "source": [
    "plt.figure(figsize=(12,5))\n",
    "plt.subplot(1,2,1)\n",
    "plt.pie([10, 20, 30, 40], explode=[0.5,0,0.1,0])\n",
    "plt.subplot(1,2,2)\n",
    "plt.hist(np.random.normal(0, 10, 999999), color='purple')\n",
    "plt.show()"
   ]
  },
  {
   "cell_type": "code",
   "execution_count": null,
   "metadata": {
    "colab": {
     "base_uri": "https://localhost:8080/",
     "height": 330
    },
    "colab_type": "code",
    "id": "S4m3eYPq6dDu",
    "outputId": "c33f4e7e-8b84-464e-ee8e-db173723db3f"
   },
   "outputs": [],
   "source": [
    "from mpl_toolkits.mplot3d import Axes3D\n",
    "import matplotlib.pyplot as plt\n",
    "from matplotlib import cm\n",
    "from matplotlib.ticker import LinearLocator, FormatStrFormatter\n",
    "import numpy as np\n",
    "\n",
    "\n",
    "fig = plt.figure(figsize=(16,9))\n",
    "ax = fig.gca(projection='3d')\n",
    "\n",
    "# Make data.\n",
    "X = np.arange(-5, 5, 0.25)\n",
    "Y = np.arange(-5, 5, 0.25)\n",
    "X, Y = np.meshgrid(X, Y)\n",
    "R = np.sqrt(X**2 + Y**2)\n",
    "Z = np.sin(R)\n",
    "\n",
    "# Plot the surface.\n",
    "surf = ax.plot_surface(X, Y, Z, cmap=cm.coolwarm,\n",
    "                       linewidth=0, antialiased=False)\n",
    "\n",
    "# Customize the z axis.\n",
    "ax.set_zlim(-1.01, 1.01)\n",
    "ax.zaxis.set_major_locator(LinearLocator(10))\n",
    "ax.zaxis.set_major_formatter(FormatStrFormatter('%.02f'))\n",
    "\n",
    "# Add a color bar which maps values to colors.\n",
    "fig.colorbar(surf, shrink=0.5, aspect=5)\n",
    "\n",
    "plt.show()"
   ]
  },
  {
   "cell_type": "markdown",
   "metadata": {
    "colab_type": "text",
    "id": "7nyc1hJMcyNz"
   },
   "source": [
    "#### Exercise\n",
    "\n",
    "Plot following function on the domain of \\[-2, 2\\]:\n",
    "\n",
    "$$y= f(x) = \\left(\\sqrt{\\cos(x)}\\cdot\\cos(200\\cdot x)+\\sqrt{|x|}-0.7\\right)\\cdot(4-x^2)^{0.01}$$\n",
    "\n",
    "**Solution:**"
   ]
  },
  {
   "cell_type": "code",
   "execution_count": null,
   "metadata": {
    "colab": {
     "base_uri": "https://localhost:8080/",
     "height": 398
    },
    "colab_type": "code",
    "id": "CbojScHOajhV",
    "outputId": "be137349-8d31-461b-e2bc-68920513d068"
   },
   "outputs": [],
   "source": [
    "# Your Code Here\n",
    "x = np.arange(-2, 2, 0.001)\n",
    "y = (np.sqrt(np.cos(x))*np.cos(200*x)+np.sqrt(np.abs(x))-0.7)*(4-x*x)**(0.01)\n",
    "\n",
    "plt.plot(x, y, color='r')"
   ]
  }
 ],
 "metadata": {
  "colab": {
   "collapsed_sections": [],
   "name": "Bootcamp_Solutions.ipynb",
   "provenance": [],
   "toc_visible": true,
   "version": "0.3.2"
  },
  "kernelspec": {
   "display_name": "Python [conda env:datasci]",
   "language": "python",
   "name": "conda-env-datasci-py"
  },
  "language_info": {
   "codemirror_mode": {
    "name": "ipython",
    "version": 3
   },
   "file_extension": ".py",
   "mimetype": "text/x-python",
   "name": "python",
   "nbconvert_exporter": "python",
   "pygments_lexer": "ipython3",
   "version": "3.7.4"
  }
 },
 "nbformat": 4,
 "nbformat_minor": 4
}
