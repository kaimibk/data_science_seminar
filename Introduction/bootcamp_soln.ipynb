{
  "nbformat": 4,
  "nbformat_minor": 0,
  "metadata": {
    "colab": {
      "name": "Bootcamp_Solutions.ipynb",
      "version": "0.3.2",
      "provenance": [],
      "collapsed_sections": [],
      "toc_visible": true
    },
    "kernelspec": {
      "name": "python3",
      "display_name": "Python 3"
    }
  },
  "cells": [
    {
      "metadata": {
        "id": "FSVDMT0enZgV",
        "colab_type": "text"
      },
      "cell_type": "markdown",
      "source": [
        "# Python Bootcamp (26 January 2019) Solutions\n",
        "___\n",
        "Welcome to the SPS@UHM python bootcamp! This event will provide the basic programming fundamentals (specifically in python) to all skill levels. This will be the first step to our Data Science Seminars which will be hosted throughout the semester, where we will apply these fundamentals to build a toolkit to succeed in data science."
      ]
    },
    {
      "metadata": {
        "id": "tglLmpyjoL5Q",
        "colab_type": "text"
      },
      "cell_type": "markdown",
      "source": [
        "___\n",
        "## Outline\n",
        "1. What is programming?\n",
        "\n",
        "1. Intro. to Python fundamentals\n",
        "\n",
        "1. Lunch / break\n",
        "\n",
        "1. More fundamentals\n",
        "\n",
        "1. Intro to data science and discussion of future events"
      ]
    },
    {
      "metadata": {
        "id": "WfUeDApDoh6u",
        "colab_type": "text"
      },
      "cell_type": "markdown",
      "source": [
        "___\n",
        "# Introduction to Programming"
      ]
    },
    {
      "metadata": {
        "id": "90h1q3cjoZWo",
        "colab_type": "text"
      },
      "cell_type": "markdown",
      "source": [
        "___\n",
        "## What does a computer do?\n",
        "\n",
        "1. Executes commands in sequence\n",
        "1. Each command operates on the current state of the machine\n",
        "\n",
        "**Remember:** Computers are dumb\n",
        "\n",
        "## What does code do?\n",
        "\n",
        "Code is nothing more than a stored sequence of commands carried out by the computer.\n",
        "\n",
        "![alt text](https://imgs.xkcd.com/comics/ai_research_2x.png)"
      ]
    },
    {
      "metadata": {
        "id": "LKmAKkOtqN2p",
        "colab_type": "text"
      },
      "cell_type": "markdown",
      "source": [
        "# Standalone Python Topics\n",
        "___"
      ]
    },
    {
      "metadata": {
        "id": "UzQ3UM22qZoy",
        "colab_type": "text"
      },
      "cell_type": "markdown",
      "source": [
        "## Functions\n",
        "\n",
        "We will start by introducing two fundamental functions in Python:\n",
        "1. `print()`\n",
        "1. `help()`"
      ]
    },
    {
      "metadata": {
        "id": "MslkDlIdq2PW",
        "colab_type": "text"
      },
      "cell_type": "markdown",
      "source": [
        "### Print Function\n",
        "As the name implies, this function prints whatever you tell it to. For example,"
      ]
    },
    {
      "metadata": {
        "id": "txg0a4ChnwbE",
        "colab_type": "code",
        "outputId": "92fc32ea-24be-4a4e-fad2-d8610912c3ed",
        "colab": {
          "base_uri": "https://localhost:8080/",
          "height": 51
        }
      },
      "cell_type": "code",
      "source": [
        "print('Hello World')\n",
        "print(5)"
      ],
      "execution_count": 0,
      "outputs": [
        {
          "output_type": "stream",
          "text": [
            "Hello World\n",
            "5\n"
          ],
          "name": "stdout"
        }
      ]
    },
    {
      "metadata": {
        "id": "rt8WoWiIsyVK",
        "colab_type": "text"
      },
      "cell_type": "markdown",
      "source": [
        "`print()` can take multiple parameters:"
      ]
    },
    {
      "metadata": {
        "id": "Cy_pwdsas4jY",
        "colab_type": "code",
        "outputId": "dbc24c8b-dd37-4409-f12a-f7a3d1793856",
        "colab": {
          "base_uri": "https://localhost:8080/",
          "height": 34
        }
      },
      "cell_type": "code",
      "source": [
        "print('Hello', 'World', end=' ')\n",
        "print(4, 2, sep='*')"
      ],
      "execution_count": 0,
      "outputs": [
        {
          "output_type": "stream",
          "text": [
            "Hello World 4*2\n"
          ],
          "name": "stdout"
        }
      ]
    },
    {
      "metadata": {
        "id": "ZkbfptGjrQED",
        "colab_type": "text"
      },
      "cell_type": "markdown",
      "source": [
        "### Exercise\n",
        "Use the print function to print your name and age\n",
        "\n",
        "**Solution:**"
      ]
    },
    {
      "metadata": {
        "id": "3TRPm7tvrLJs",
        "colab_type": "code",
        "outputId": "38a9d6db-3442-443b-da74-2164feee6e18",
        "colab": {
          "base_uri": "https://localhost:8080/",
          "height": 34
        }
      },
      "cell_type": "code",
      "source": [
        "print('your name and age')"
      ],
      "execution_count": 0,
      "outputs": [
        {
          "output_type": "stream",
          "text": [
            "your name and age\n"
          ],
          "name": "stdout"
        }
      ]
    },
    {
      "metadata": {
        "id": "zmxgfaVwrkPX",
        "colab_type": "text"
      },
      "cell_type": "markdown",
      "source": [
        "### Help Function\n",
        "This function will tell how how to use a certain function, and what parameters it takes."
      ]
    },
    {
      "metadata": {
        "id": "uoIWkvTRrigL",
        "colab_type": "code",
        "outputId": "e7465a26-d904-4bd5-96d4-59d6eab26e4c",
        "colab": {
          "base_uri": "https://localhost:8080/",
          "height": 241
        }
      },
      "cell_type": "code",
      "source": [
        "help(print)"
      ],
      "execution_count": 0,
      "outputs": [
        {
          "output_type": "stream",
          "text": [
            "Help on built-in function print in module builtins:\n",
            "\n",
            "print(...)\n",
            "    print(value, ..., sep=' ', end='\\n', file=sys.stdout, flush=False)\n",
            "    \n",
            "    Prints the values to a stream, or to sys.stdout by default.\n",
            "    Optional keyword arguments:\n",
            "    file:  a file-like object (stream); defaults to the current sys.stdout.\n",
            "    sep:   string inserted between values, default a space.\n",
            "    end:   string appended after the last value, default a newline.\n",
            "    flush: whether to forcibly flush the stream.\n",
            "\n"
          ],
          "name": "stdout"
        }
      ]
    },
    {
      "metadata": {
        "id": "8ZjYMa3Xr-A7",
        "colab_type": "text"
      },
      "cell_type": "markdown",
      "source": [
        "### Exercise\n",
        "\n",
        "There are many built-in functions available in Python 3.6, for a list see [here.](https://docs.python.org/2/library/functions.html)\n",
        "\n",
        "Use the help function to check the following built in functions:\n",
        "1. `list`\n",
        "1. `sum`\n",
        "1. `min`\n",
        "\n",
        "**Solution:**"
      ]
    },
    {
      "metadata": {
        "id": "UXSleknKr89o",
        "colab_type": "code",
        "outputId": "496c56f0-db50-46c4-c47c-9f9e32901e9c",
        "colab": {
          "base_uri": "https://localhost:8080/",
          "height": 2383
        }
      },
      "cell_type": "code",
      "source": [
        "# Number 1\n",
        "help(list())\n",
        "\n",
        "# Number 2\n",
        "help(sum)\n",
        "\n",
        "# Number 3\n",
        "help(min)"
      ],
      "execution_count": 0,
      "outputs": [
        {
          "output_type": "stream",
          "text": [
            "Help on list object:\n",
            "\n",
            "class list(object)\n",
            " |  list() -> new empty list\n",
            " |  list(iterable) -> new list initialized from iterable's items\n",
            " |  \n",
            " |  Methods defined here:\n",
            " |  \n",
            " |  __add__(self, value, /)\n",
            " |      Return self+value.\n",
            " |  \n",
            " |  __contains__(self, key, /)\n",
            " |      Return key in self.\n",
            " |  \n",
            " |  __delitem__(self, key, /)\n",
            " |      Delete self[key].\n",
            " |  \n",
            " |  __eq__(self, value, /)\n",
            " |      Return self==value.\n",
            " |  \n",
            " |  __ge__(self, value, /)\n",
            " |      Return self>=value.\n",
            " |  \n",
            " |  __getattribute__(self, name, /)\n",
            " |      Return getattr(self, name).\n",
            " |  \n",
            " |  __getitem__(...)\n",
            " |      x.__getitem__(y) <==> x[y]\n",
            " |  \n",
            " |  __gt__(self, value, /)\n",
            " |      Return self>value.\n",
            " |  \n",
            " |  __iadd__(self, value, /)\n",
            " |      Implement self+=value.\n",
            " |  \n",
            " |  __imul__(self, value, /)\n",
            " |      Implement self*=value.\n",
            " |  \n",
            " |  __init__(self, /, *args, **kwargs)\n",
            " |      Initialize self.  See help(type(self)) for accurate signature.\n",
            " |  \n",
            " |  __iter__(self, /)\n",
            " |      Implement iter(self).\n",
            " |  \n",
            " |  __le__(self, value, /)\n",
            " |      Return self<=value.\n",
            " |  \n",
            " |  __len__(self, /)\n",
            " |      Return len(self).\n",
            " |  \n",
            " |  __lt__(self, value, /)\n",
            " |      Return self<value.\n",
            " |  \n",
            " |  __mul__(self, value, /)\n",
            " |      Return self*value.\n",
            " |  \n",
            " |  __ne__(self, value, /)\n",
            " |      Return self!=value.\n",
            " |  \n",
            " |  __new__(*args, **kwargs) from builtins.type\n",
            " |      Create and return a new object.  See help(type) for accurate signature.\n",
            " |  \n",
            " |  __repr__(self, /)\n",
            " |      Return repr(self).\n",
            " |  \n",
            " |  __reversed__(...)\n",
            " |      L.__reversed__() -- return a reverse iterator over the list\n",
            " |  \n",
            " |  __rmul__(self, value, /)\n",
            " |      Return value*self.\n",
            " |  \n",
            " |  __setitem__(self, key, value, /)\n",
            " |      Set self[key] to value.\n",
            " |  \n",
            " |  __sizeof__(...)\n",
            " |      L.__sizeof__() -- size of L in memory, in bytes\n",
            " |  \n",
            " |  append(...)\n",
            " |      L.append(object) -> None -- append object to end\n",
            " |  \n",
            " |  clear(...)\n",
            " |      L.clear() -> None -- remove all items from L\n",
            " |  \n",
            " |  copy(...)\n",
            " |      L.copy() -> list -- a shallow copy of L\n",
            " |  \n",
            " |  count(...)\n",
            " |      L.count(value) -> integer -- return number of occurrences of value\n",
            " |  \n",
            " |  extend(...)\n",
            " |      L.extend(iterable) -> None -- extend list by appending elements from the iterable\n",
            " |  \n",
            " |  index(...)\n",
            " |      L.index(value, [start, [stop]]) -> integer -- return first index of value.\n",
            " |      Raises ValueError if the value is not present.\n",
            " |  \n",
            " |  insert(...)\n",
            " |      L.insert(index, object) -- insert object before index\n",
            " |  \n",
            " |  pop(...)\n",
            " |      L.pop([index]) -> item -- remove and return item at index (default last).\n",
            " |      Raises IndexError if list is empty or index is out of range.\n",
            " |  \n",
            " |  remove(...)\n",
            " |      L.remove(value) -> None -- remove first occurrence of value.\n",
            " |      Raises ValueError if the value is not present.\n",
            " |  \n",
            " |  reverse(...)\n",
            " |      L.reverse() -- reverse *IN PLACE*\n",
            " |  \n",
            " |  sort(...)\n",
            " |      L.sort(key=None, reverse=False) -> None -- stable sort *IN PLACE*\n",
            " |  \n",
            " |  ----------------------------------------------------------------------\n",
            " |  Data and other attributes defined here:\n",
            " |  \n",
            " |  __hash__ = None\n",
            "\n",
            "Help on built-in function sum in module builtins:\n",
            "\n",
            "sum(iterable, start=0, /)\n",
            "    Return the sum of a 'start' value (default: 0) plus an iterable of numbers\n",
            "    \n",
            "    When the iterable is empty, return the start value.\n",
            "    This function is intended specifically for use with numeric values and may\n",
            "    reject non-numeric types.\n",
            "\n",
            "Help on built-in function min in module builtins:\n",
            "\n",
            "min(...)\n",
            "    min(iterable, *[, default=obj, key=func]) -> value\n",
            "    min(arg1, arg2, *args, *[, key=func]) -> value\n",
            "    \n",
            "    With a single iterable argument, return its smallest item. The\n",
            "    default keyword-only argument specifies an object to return if\n",
            "    the provided iterable is empty.\n",
            "    With two or more arguments, return the smallest argument.\n",
            "\n"
          ],
          "name": "stdout"
        }
      ]
    },
    {
      "metadata": {
        "id": "dT11wI4XuOv6",
        "colab_type": "text"
      },
      "cell_type": "markdown",
      "source": [
        "___\n",
        "## Data Types Part 1\n",
        "\n",
        "There are various data types, a few common examples are:\n",
        "\n",
        "1. `int` : integer\n",
        "1. `float` : floating point (decimal number)\n",
        "1. `str` : string (text)\n",
        "1. `bool` : boolean (i.e. True/False)\n",
        "\n",
        "For example:"
      ]
    },
    {
      "metadata": {
        "id": "7XCvOL7ZvPOJ",
        "colab_type": "code",
        "colab": {}
      },
      "cell_type": "code",
      "source": [
        "myInteger = 2\n",
        "myFloat = 3.1415\n",
        "myString = \"apple\"\n",
        "myBoolean = True"
      ],
      "execution_count": 0,
      "outputs": []
    },
    {
      "metadata": {
        "id": "DF-ReaKHvdtb",
        "colab_type": "text"
      },
      "cell_type": "markdown",
      "source": [
        "We can also check the `type` of variables:"
      ]
    },
    {
      "metadata": {
        "id": "n4Fz2WxNvkho",
        "colab_type": "code",
        "outputId": "c115fdb4-c0c6-424c-d926-5f0d9b90bfa8",
        "colab": {
          "base_uri": "https://localhost:8080/",
          "height": 85
        }
      },
      "cell_type": "code",
      "source": [
        "print(type(myInteger))\n",
        "print(type(myFloat))\n",
        "print(type(myString))\n",
        "print(type(myBoolean))"
      ],
      "execution_count": 0,
      "outputs": [
        {
          "output_type": "stream",
          "text": [
            "<class 'int'>\n",
            "<class 'float'>\n",
            "<class 'str'>\n",
            "<class 'bool'>\n"
          ],
          "name": "stdout"
        }
      ]
    },
    {
      "metadata": {
        "id": "VLuGRicFwnyR",
        "colab_type": "text"
      },
      "cell_type": "markdown",
      "source": [
        "Another useful feature is _type casting_"
      ]
    },
    {
      "metadata": {
        "id": "jeTmrxC6wvOI",
        "colab_type": "code",
        "outputId": "ebd99baf-9a15-42b2-9679-72f2e2e52f33",
        "colab": {
          "base_uri": "https://localhost:8080/",
          "height": 68
        }
      },
      "cell_type": "code",
      "source": [
        "print(float(myInteger))\n",
        "print(int(myFloat))\n",
        "print(bool('s'))"
      ],
      "execution_count": 0,
      "outputs": [
        {
          "output_type": "stream",
          "text": [
            "2.0\n",
            "3\n",
            "True\n"
          ],
          "name": "stdout"
        }
      ]
    },
    {
      "metadata": {
        "id": "dXnSJ3oKwgfL",
        "colab_type": "text"
      },
      "cell_type": "markdown",
      "source": [
        "### Exercise\n",
        "1. Does int() correctly round floats?\n",
        "1. What are the numerical equivalents of booleans?\n",
        "1. What strings can you successfully cast into ints, floats, and booleans?\n",
        "\n",
        "**Solution:**"
      ]
    },
    {
      "metadata": {
        "id": "n4ygy74Kw4I6",
        "colab_type": "code",
        "outputId": "67bbecd9-5be7-41d6-8b8d-b963fdcc19ce",
        "colab": {
          "base_uri": "https://localhost:8080/",
          "height": 136
        }
      },
      "cell_type": "code",
      "source": [
        "# Number 1\n",
        "print(int(3.1415))\n",
        "print(int(2.99))\n",
        "\n",
        "# Number 2\n",
        "print(float(True))\n",
        "print(float(False))\n",
        "\n",
        "# Number 3\n",
        "print(float('5'))\n",
        "print(float('inf'))\n",
        "print(bool(6))\n"
      ],
      "execution_count": 0,
      "outputs": [
        {
          "output_type": "stream",
          "text": [
            "3\n",
            "2\n",
            "1.0\n",
            "0.0\n",
            "5.0\n",
            "inf\n",
            "True\n"
          ],
          "name": "stdout"
        }
      ]
    },
    {
      "metadata": {
        "id": "qvPWI_kkuebj",
        "colab_type": "text"
      },
      "cell_type": "markdown",
      "source": [
        "### Note on Naming Schemes\n",
        "\n",
        "1. May consist of letters, numbers, and underscores\n",
        "1. Cannot start with a number\n",
        "1. Is case sensitive\n",
        "\n",
        "For example, the following line returns an error, why?"
      ]
    },
    {
      "metadata": {
        "id": "GTDjrs5dshFD",
        "colab_type": "code",
        "outputId": "850f6bee-fd2c-453e-f683-73db10bc70f1",
        "colab": {
          "base_uri": "https://localhost:8080/",
          "height": 130
        }
      },
      "cell_type": "code",
      "source": [
        "5_five = 5\n",
        "print(5_five)"
      ],
      "execution_count": 0,
      "outputs": [
        {
          "output_type": "error",
          "ename": "SyntaxError",
          "evalue": "ignored",
          "traceback": [
            "\u001b[0;36m  File \u001b[0;32m\"<ipython-input-14-2271b7edafb0>\"\u001b[0;36m, line \u001b[0;32m1\u001b[0m\n\u001b[0;31m    5_five = 5\u001b[0m\n\u001b[0m     ^\u001b[0m\n\u001b[0;31mSyntaxError\u001b[0m\u001b[0;31m:\u001b[0m invalid token\n"
          ]
        }
      ]
    },
    {
      "metadata": {
        "id": "rxU2stZPv6tc",
        "colab_type": "text"
      },
      "cell_type": "markdown",
      "source": [
        "It is also a good idea to chose variable names that are useful, for example, `blah = 3.14`, isn't particularly useful. Perhaps `pi = 3.14` is a better choice.\n"
      ]
    },
    {
      "metadata": {
        "id": "KNrB61rcu_Rm",
        "colab_type": "text"
      },
      "cell_type": "markdown",
      "source": [
        "___\n",
        "## Basic Math\n",
        "\n",
        "Python is a very valuable tool for evaluating mathematical expressions. Here are some basic mathmatical operations you can peform in Python."
      ]
    },
    {
      "metadata": {
        "id": "hkv9H6DSu-ZM",
        "colab_type": "code",
        "colab": {}
      },
      "cell_type": "code",
      "source": [
        "a = 2\n",
        "b = 4.5\n",
        "c = \"apple\"\n",
        "\n",
        "print(a+b)\n",
        "print(a-b)\n",
        "print(a*b)\n",
        "print(a/b)\n",
        "print(c+str(a))"
      ],
      "execution_count": 0,
      "outputs": []
    },
    {
      "metadata": {
        "id": "CoAxERSfHcn8",
        "colab_type": "code",
        "outputId": "eff938ca-7b90-42e1-8967-9853f16ea527",
        "colab": {
          "base_uri": "https://localhost:8080/",
          "height": 34
        }
      },
      "cell_type": "code",
      "source": [
        ""
      ],
      "execution_count": 0,
      "outputs": [
        {
          "output_type": "execute_result",
          "data": {
            "text/plain": [
              "1.5"
            ]
          },
          "metadata": {
            "tags": []
          },
          "execution_count": 20
        }
      ]
    },
    {
      "metadata": {
        "id": "w0n1VkFrx6ZC",
        "colab_type": "text"
      },
      "cell_type": "markdown",
      "source": [
        "### Exercise\n",
        "1. What do the following operators do?\n",
        "    - `**`\n",
        "    - `//`\n",
        "    - `%`\n",
        "1. What combinations of data types work and don't work?\n",
        "1. Did you find anything you didn't expect?\n",
        "\n",
        "**Solution:**"
      ]
    },
    {
      "metadata": {
        "id": "iswsIq5Mutjx",
        "colab_type": "code",
        "colab": {}
      },
      "cell_type": "code",
      "source": [
        "# Number 1\n",
        "print(3**3)\n",
        "print(10//3)\n",
        "print(10%3)\n",
        "\n",
        "# Number 2\n",
        "print(3**'yeet')\n",
        "\n",
        "# Number 3\n",
        "print(2*'yeet')"
      ],
      "execution_count": 0,
      "outputs": []
    },
    {
      "metadata": {
        "id": "NrWgj9I5y063",
        "colab_type": "text"
      },
      "cell_type": "markdown",
      "source": [
        "___\n",
        "## Conditionals"
      ]
    },
    {
      "metadata": {
        "id": "U2RsrmDo11E2",
        "colab_type": "text"
      },
      "cell_type": "markdown",
      "source": [
        "### Conditionals with Math"
      ]
    },
    {
      "metadata": {
        "id": "WvAcwHFVy_Rt",
        "colab_type": "code",
        "outputId": "50e109c7-fba6-49fc-e031-97db6420256a",
        "colab": {
          "base_uri": "https://localhost:8080/",
          "height": 119
        }
      },
      "cell_type": "code",
      "source": [
        "print(3 == 3)\n",
        "print(3 > 5)\n",
        "print(3 < 5)\n",
        "print(1 <= 2)\n",
        "print(2 >= 1)\n",
        "print(2 != 1)"
      ],
      "execution_count": 0,
      "outputs": [
        {
          "output_type": "stream",
          "text": [
            "True\n",
            "False\n",
            "True\n",
            "True\n",
            "True\n",
            "True\n"
          ],
          "name": "stdout"
        }
      ]
    },
    {
      "metadata": {
        "id": "hcrZ9lsQ16Tx",
        "colab_type": "code",
        "outputId": "a3bf123d-33a9-414b-8b6a-11f6ec3e2d2c",
        "colab": {
          "base_uri": "https://localhost:8080/",
          "height": 68
        }
      },
      "cell_type": "code",
      "source": [
        "a = 5/3\n",
        "b = 1 + 2/3\n",
        "print(a == b)\n",
        "print(a)\n",
        "print(b)"
      ],
      "execution_count": 0,
      "outputs": [
        {
          "output_type": "stream",
          "text": [
            "False\n",
            "1.6666666666666667\n",
            "1.6666666666666665\n"
          ],
          "name": "stdout"
        }
      ]
    },
    {
      "metadata": {
        "id": "epUkFljZ19xk",
        "colab_type": "code",
        "outputId": "6a8773aa-2949-4d78-cd5d-a1bca86791ac",
        "colab": {
          "base_uri": "https://localhost:8080/",
          "height": 85
        }
      },
      "cell_type": "code",
      "source": [
        "print(\"apple\" == \"banana\")\n",
        "print(len(\"apple\") == 5)\n",
        "print(\"b\" in \"banana\")\n",
        "print(\"q\" in \"apple\")"
      ],
      "execution_count": 0,
      "outputs": [
        {
          "output_type": "stream",
          "text": [
            "False\n",
            "True\n",
            "True\n",
            "False\n"
          ],
          "name": "stdout"
        }
      ]
    },
    {
      "metadata": {
        "id": "Hq-Auct3yw7R",
        "colab_type": "text"
      },
      "cell_type": "markdown",
      "source": [
        "___\n",
        "## Functions"
      ]
    },
    {
      "metadata": {
        "id": "472SFFY2ydA5",
        "colab_type": "code",
        "colab": {}
      },
      "cell_type": "code",
      "source": [
        "def my_first_function():\n",
        "    print('I made my first function!')\n",
        "    \n",
        "my_first_function()"
      ],
      "execution_count": 0,
      "outputs": []
    },
    {
      "metadata": {
        "id": "4w_4-K0C2RfT",
        "colab_type": "text"
      },
      "cell_type": "markdown",
      "source": [
        "We can also introduce parameters into our functions."
      ]
    },
    {
      "metadata": {
        "id": "DidDE0w42WJQ",
        "colab_type": "code",
        "outputId": "bc848148-856e-41a1-96ce-39079e09968b",
        "colab": {
          "base_uri": "https://localhost:8080/",
          "height": 51
        }
      },
      "cell_type": "code",
      "source": [
        "def newton_force(mass, accel=9.81):\n",
        "    return mass * accel\n",
        "\n",
        "force = newton_force(100)\n",
        "\n",
        "print(force, '[N]')\n",
        "\n",
        "force2 = newton_force(100, 100)\n",
        "\n",
        "print(force2, '[N]')"
      ],
      "execution_count": 0,
      "outputs": [
        {
          "output_type": "stream",
          "text": [
            "981.0 [N]\n",
            "10000 [N]\n"
          ],
          "name": "stdout"
        }
      ]
    },
    {
      "metadata": {
        "id": "sABPQhA13Bi-",
        "colab_type": "text"
      },
      "cell_type": "markdown",
      "source": [
        "### Exercise\n",
        "Create a function which returns the hypotenuse of a right triangle. Recall: $c^2 = a^2 + b^2$.\n",
        "\n",
        "**Solution:**"
      ]
    },
    {
      "metadata": {
        "id": "WaAzjmF-3Sm0",
        "colab_type": "code",
        "colab": {}
      },
      "cell_type": "code",
      "source": [
        "def hypot(a, b):\n",
        "    \"\"\"Put Your Code Here\"\"\"\n",
        "    return (a**2 + b**2)**0.5"
      ],
      "execution_count": 0,
      "outputs": []
    },
    {
      "metadata": {
        "id": "-XNagk8Jys0e",
        "colab_type": "code",
        "colab": {}
      },
      "cell_type": "code",
      "source": [
        "hypot(3, 4)"
      ],
      "execution_count": 0,
      "outputs": []
    },
    {
      "metadata": {
        "id": "t9vM7RPIy_6o",
        "colab_type": "text"
      },
      "cell_type": "markdown",
      "source": [
        "___\n",
        "## Flow Control"
      ]
    },
    {
      "metadata": {
        "id": "1i9hl8auzBjP",
        "colab_type": "text"
      },
      "cell_type": "markdown",
      "source": [
        "### If Statements"
      ]
    },
    {
      "metadata": {
        "id": "9mt6OhmPzApk",
        "colab_type": "code",
        "colab": {}
      },
      "cell_type": "code",
      "source": [
        "def do_it(a, b):\n",
        "    if a == b:\n",
        "        print(\"Yes\")\n",
        "    elif b > a:\n",
        "        print(\"No\")\n",
        "    else:\n",
        "        print(\"I give up\")\n",
        "\n",
        "do_it(3, 3)\n",
        "do_it(10, 100)\n",
        "do_it(0.1, 0)"
      ],
      "execution_count": 0,
      "outputs": []
    },
    {
      "metadata": {
        "id": "FRJflvtZzEu0",
        "colab_type": "text"
      },
      "cell_type": "markdown",
      "source": [
        "### While Loops"
      ]
    },
    {
      "metadata": {
        "id": "kJ1iZ6hJzHYa",
        "colab_type": "code",
        "colab": {}
      },
      "cell_type": "code",
      "source": [
        "a = 5\n",
        "b = 1\n",
        "\n",
        "while a > b:\n",
        "    print('{} is greater than {}'.format(a,b))\n",
        "    b = b+1\n",
        "\n",
        "print('{} is not greater than {}'.format(a,b))"
      ],
      "execution_count": 0,
      "outputs": []
    },
    {
      "metadata": {
        "id": "MRrwslCkzQqE",
        "colab_type": "text"
      },
      "cell_type": "markdown",
      "source": [
        "___\n",
        "## Data Types Part 2 - Electric Boogaloo"
      ]
    },
    {
      "metadata": {
        "id": "G4rvv5Sx1VH9",
        "colab_type": "text"
      },
      "cell_type": "markdown",
      "source": [
        "### Lists"
      ]
    },
    {
      "metadata": {
        "id": "FFSbouLqzTBb",
        "colab_type": "code",
        "colab": {}
      },
      "cell_type": "code",
      "source": [
        "myList = [\"apple\", \"banana\", \"shark\", 15]\n",
        "print(myList)"
      ],
      "execution_count": 0,
      "outputs": []
    },
    {
      "metadata": {
        "id": "QdJlteiK1itG",
        "colab_type": "text"
      },
      "cell_type": "markdown",
      "source": [
        "### Adding and Removing Elements"
      ]
    },
    {
      "metadata": {
        "id": "F4kAc5MU1nS7",
        "colab_type": "code",
        "colab": {}
      },
      "cell_type": "code",
      "source": [
        "myList.append(\"ballistic missile\")\n",
        "print(myList)"
      ],
      "execution_count": 0,
      "outputs": []
    },
    {
      "metadata": {
        "id": "jeBfi18O1rGB",
        "colab_type": "code",
        "colab": {}
      },
      "cell_type": "code",
      "source": [
        "myList.remove(\"banana\")\n",
        "print(myList)"
      ],
      "execution_count": 0,
      "outputs": []
    },
    {
      "metadata": {
        "id": "aHNcxH-x4rjE",
        "colab_type": "text"
      },
      "cell_type": "markdown",
      "source": [
        "### List Indexing and Slicing"
      ]
    },
    {
      "metadata": {
        "id": "FfYNBUd44tr0",
        "colab_type": "code",
        "colab": {}
      },
      "cell_type": "code",
      "source": [
        "print(myList[0])\n",
        "print(myList[3])\n",
        "print(myList[1:3])\n",
        "print(myList[-1])"
      ],
      "execution_count": 0,
      "outputs": []
    },
    {
      "metadata": {
        "id": "ozW5vXpW41dO",
        "colab_type": "text"
      },
      "cell_type": "markdown",
      "source": [
        "### Exercise\n",
        "\n",
        "Create a function which takes a list as a parameter and an integer, n. Return the n-th entry of the list.\n",
        "\n",
        "**Solution:**"
      ]
    },
    {
      "metadata": {
        "id": "HElIDPe-5Ccm",
        "colab_type": "code",
        "colab": {}
      },
      "cell_type": "code",
      "source": [
        "def nth_entry(a_list, n):\n",
        "    \"\"\"Your Code Here\"\"\"\n",
        "    return a_list[n]\n",
        "    \n",
        "nth_entry(myList, 3)"
      ],
      "execution_count": 0,
      "outputs": []
    },
    {
      "metadata": {
        "id": "P6wT7a6U5qax",
        "colab_type": "text"
      },
      "cell_type": "markdown",
      "source": [
        "### Multi-Dimensional Arrays"
      ]
    },
    {
      "metadata": {
        "id": "ewNKJPnn7BHa",
        "colab_type": "code",
        "colab": {}
      },
      "cell_type": "code",
      "source": [
        "array_2d = [[0,1,2,3], [2,5,3,2], [6,3,1,7]]\n",
        "print(array_2d)"
      ],
      "execution_count": 0,
      "outputs": []
    },
    {
      "metadata": {
        "id": "XqTLhY3u7Euf",
        "colab_type": "code",
        "colab": {}
      },
      "cell_type": "code",
      "source": [
        "print(array_2d[0])\n",
        "print(array_2d[1][0:2])\n",
        "print(array_2d[0:2])\n",
        "print(myList[0][0])"
      ],
      "execution_count": 0,
      "outputs": []
    },
    {
      "metadata": {
        "id": "HRJiaMQ70Rm7",
        "colab_type": "text"
      },
      "cell_type": "markdown",
      "source": [
        "___\n",
        "## Flow Control Part 2 - Back 2 Tha Hood"
      ]
    },
    {
      "metadata": {
        "id": "eEHETZpL0XYS",
        "colab_type": "code",
        "colab": {}
      },
      "cell_type": "code",
      "source": [
        "for item in myList:\n",
        "    print(item)"
      ],
      "execution_count": 0,
      "outputs": []
    },
    {
      "metadata": {
        "id": "SNCrY3vO7SAR",
        "colab_type": "code",
        "colab": {}
      },
      "cell_type": "code",
      "source": [
        "myList2 = [1,2,3,4,5,6]\n",
        "\n",
        "for item in myList2:\n",
        "    print(item**2 + 3.8*item + 5.1)"
      ],
      "execution_count": 0,
      "outputs": []
    },
    {
      "metadata": {
        "id": "cSGuQA5H7UIh",
        "colab_type": "code",
        "colab": {}
      },
      "cell_type": "code",
      "source": [
        "for item in myList2:\n",
        "    if item > 3:\n",
        "        print(\"True\")\n",
        "    else:\n",
        "        print(\"False\")"
      ],
      "execution_count": 0,
      "outputs": []
    },
    {
      "metadata": {
        "id": "XvAcila07app",
        "colab_type": "text"
      },
      "cell_type": "markdown",
      "source": [
        "**`range()`** function"
      ]
    },
    {
      "metadata": {
        "id": "rKZ59r-Y7WCh",
        "colab_type": "code",
        "colab": {}
      },
      "cell_type": "code",
      "source": [
        "myRange = range(len(myList))\n",
        "for i in myRange:\n",
        "    print('{}: {}'.format(i, myList[i]))"
      ],
      "execution_count": 0,
      "outputs": []
    },
    {
      "metadata": {
        "id": "64_hVKwH7heg",
        "colab_type": "text"
      },
      "cell_type": "markdown",
      "source": [
        "**List Comprehension**"
      ]
    },
    {
      "metadata": {
        "id": "2MKcW0cv7Ycc",
        "colab_type": "code",
        "colab": {}
      },
      "cell_type": "code",
      "source": [
        "myList3 = [i**2 for i in myList2]\n",
        "print(myList3)"
      ],
      "execution_count": 0,
      "outputs": []
    },
    {
      "metadata": {
        "id": "Sr-qvENa1W2W",
        "colab_type": "text"
      },
      "cell_type": "markdown",
      "source": [
        "### Exercise\n",
        "Define a function that uses a for loop to draw the following pattern (out to the n-th line with n asterisks). <br>\n",
        "\\* <br>\n",
        "\\*\\* <br>\n",
        "\\*\\*\\* <br>\n",
        "\\*\\*\\*\\* <br>\n",
        "\\*\\*\\*\\*\\* <br>\n",
        "...\n",
        "\n",
        "**Solution:**"
      ]
    },
    {
      "metadata": {
        "id": "_UCfuU-R1bGo",
        "colab_type": "code",
        "colab": {}
      },
      "cell_type": "code",
      "source": [
        "def star_tree(n):\n",
        "    \"\"\"Your Code Here\"\"\"\n",
        "    for i in range(n):\n",
        "        print('*'*(i+1))"
      ],
      "execution_count": 0,
      "outputs": []
    },
    {
      "metadata": {
        "id": "BA3Ny3W77gEL",
        "colab_type": "code",
        "outputId": "ce90f160-ee70-41b9-f2fc-66c1dbde9961",
        "colab": {
          "base_uri": "https://localhost:8080/",
          "height": 164
        }
      },
      "cell_type": "code",
      "source": [
        "star_tree(n=10)"
      ],
      "execution_count": 0,
      "outputs": [
        {
          "output_type": "error",
          "ename": "NameError",
          "evalue": "ignored",
          "traceback": [
            "\u001b[0;31m---------------------------------------------------------------------------\u001b[0m",
            "\u001b[0;31mNameError\u001b[0m                                 Traceback (most recent call last)",
            "\u001b[0;32m<ipython-input-1-8fec6ffb8cdb>\u001b[0m in \u001b[0;36m<module>\u001b[0;34m()\u001b[0m\n\u001b[0;32m----> 1\u001b[0;31m \u001b[0mstar_tree\u001b[0m\u001b[0;34m(\u001b[0m\u001b[0mn\u001b[0m\u001b[0;34m=\u001b[0m\u001b[0;36m10\u001b[0m\u001b[0;34m)\u001b[0m\u001b[0;34m\u001b[0m\u001b[0;34m\u001b[0m\u001b[0m\n\u001b[0m",
            "\u001b[0;31mNameError\u001b[0m: name 'star_tree' is not defined"
          ]
        }
      ]
    },
    {
      "metadata": {
        "id": "wQ_M_hQU1E8f",
        "colab_type": "text"
      },
      "cell_type": "markdown",
      "source": [
        "### Exercise\n",
        "\n",
        "**Classic Challenge** : Fizz Buzz\n",
        "\n",
        "Given a list of integers from 1 to 50. \n",
        "- Print \"Fizz\" if the integer is divisible by 3.\n",
        "    - i.e. 3, 6, 9\n",
        "- Print \"Buzz\" if the integer is divisible by 5. \n",
        "    - i.e. 5, 10, 15\n",
        "- Print \"FizzBuzz\" if the integer is divisible by 3 AND 5.\n",
        "    - i.e. 15, 30,  45\n",
        "    \n",
        "Challenge: Do it in as few lines as possible!\n",
        "\n",
        "**Solution:**"
      ]
    },
    {
      "metadata": {
        "id": "Ae_yWLjc1MI2",
        "colab_type": "code",
        "colab": {}
      },
      "cell_type": "code",
      "source": [
        "for num in range(1, 50): \n",
        "    print(num, \"Fizz\"*(num%3 == 0) + \"Buzz\"*(num%5 == 0))"
      ],
      "execution_count": 0,
      "outputs": []
    },
    {
      "metadata": {
        "id": "XK9ak2Zh0YNn",
        "colab_type": "text"
      },
      "cell_type": "markdown",
      "source": [
        "___\n",
        "# Modules"
      ]
    },
    {
      "metadata": {
        "id": "N2fIgrp-4wz8",
        "colab_type": "text"
      },
      "cell_type": "markdown",
      "source": [
        "___\n",
        "## Numpy"
      ]
    },
    {
      "metadata": {
        "id": "mdrLjO_m0dIw",
        "colab_type": "code",
        "colab": {}
      },
      "cell_type": "code",
      "source": [
        "import numpy as np"
      ],
      "execution_count": 0,
      "outputs": []
    },
    {
      "metadata": {
        "id": "A4qLkOzP4_hX",
        "colab_type": "text"
      },
      "cell_type": "markdown",
      "source": [
        "### Arrays"
      ]
    },
    {
      "metadata": {
        "id": "6_5I6GNx5Cii",
        "colab_type": "code",
        "outputId": "0293f8e0-9c97-440e-8c3a-9f859c3cd2e0",
        "colab": {
          "base_uri": "https://localhost:8080/",
          "height": 67
        }
      },
      "cell_type": "code",
      "source": [
        "arr1 = np.arange(0, 100, 5)\n",
        "print(arr1)\n",
        "\n",
        "arr2 = np.linspace(0, 100, 9)\n",
        "print(arr2)\n",
        "\n",
        "arr3 = np.random.randint(0, 100, 5)\n",
        "print(arr3)"
      ],
      "execution_count": 0,
      "outputs": [
        {
          "output_type": "stream",
          "text": [
            "[ 0  5 10 15 20 25 30 35 40 45 50 55 60 65 70 75 80 85 90 95]\n",
            "[  0.   12.5  25.   37.5  50.   62.5  75.   87.5 100. ]\n",
            "[11 11 95 69 73]\n"
          ],
          "name": "stdout"
        }
      ]
    },
    {
      "metadata": {
        "id": "3gUXEHVO40uF",
        "colab_type": "text"
      },
      "cell_type": "markdown",
      "source": [
        "___\n",
        "## Matplotlib"
      ]
    },
    {
      "metadata": {
        "id": "auqXJNFk42EB",
        "colab_type": "code",
        "colab": {}
      },
      "cell_type": "code",
      "source": [
        "import matplotlib.pyplot as plt"
      ],
      "execution_count": 0,
      "outputs": []
    },
    {
      "metadata": {
        "id": "bf2mtJMB6BTL",
        "colab_type": "text"
      },
      "cell_type": "markdown",
      "source": [
        "### Scatter Plot"
      ]
    },
    {
      "metadata": {
        "id": "6mDgmDzp5Ts_",
        "colab_type": "code",
        "outputId": "2f4fb210-b90c-4e14-f4c9-f15ea1c1bffd",
        "colab": {
          "base_uri": "https://localhost:8080/",
          "height": 347
        }
      },
      "cell_type": "code",
      "source": [
        "plt.scatter(arr1, arr1**2 + 10.0)\n",
        "plt.show()"
      ],
      "execution_count": 0,
      "outputs": [
        {
          "output_type": "display_data",
          "data": {
            "image/png": "[encoded data removed]",
            "text/plain": [
              "<Figure size 576x396 with 1 Axes>"
            ]
          },
          "metadata": {
            "tags": []
          }
        }
      ]
    },
    {
      "metadata": {
        "id": "vvyf-gBs6Vjd",
        "colab_type": "text"
      },
      "cell_type": "markdown",
      "source": [
        "### Line Plot"
      ]
    },
    {
      "metadata": {
        "id": "NsECzODv6R9w",
        "colab_type": "code",
        "outputId": "926d2289-b8b0-4eaa-d94d-01dcaf9bb861",
        "colab": {
          "base_uri": "https://localhost:8080/",
          "height": 347
        }
      },
      "cell_type": "code",
      "source": [
        "x = np.linspace(0, 10, 100)\n",
        "\n",
        "fig = plt.figure()\n",
        "plt.plot(x, np.sin(x), '-')\n",
        "plt.plot(x, np.cos(x), '--');"
      ],
      "execution_count": 0,
      "outputs": [
        {
          "output_type": "display_data",
          "data": {
            "image/png": "[encoded data removed]",
            "text/plain": [
              "<Figure size 576x396 with 1 Axes>"
            ]
          },
          "metadata": {
            "tags": []
          }
        }
      ]
    },
    {
      "metadata": {
        "id": "skn1UIEY6Z4J",
        "colab_type": "text"
      },
      "cell_type": "markdown",
      "source": [
        "### Pie Chart"
      ]
    },
    {
      "metadata": {
        "id": "GalX-D_M6YM2",
        "colab_type": "code",
        "outputId": "a5a0f95f-ed56-4cb3-bdee-37b35e1de6e7",
        "colab": {
          "base_uri": "https://localhost:8080/",
          "height": 320
        }
      },
      "cell_type": "code",
      "source": [
        "plt.figure(figsize=(12,5))\n",
        "plt.subplot(1,2,1)\n",
        "plt.pie([10, 20, 30, 40], explode=[0.5,0,0.1,0])\n",
        "plt.subplot(1,2,2)\n",
        "plt.hist(np.random.normal(0, 10, 999999), color='purple')\n",
        "plt.show()"
      ],
      "execution_count": 0,
      "outputs": [
        {
          "output_type": "display_data",
          "data": {
            "image/png": "[encoded data removed]",
            "text/plain": [
              "<Figure size 864x360 with 2 Axes>"
            ]
          },
          "metadata": {
            "tags": []
          }
        }
      ]
    },
    {
      "metadata": {
        "id": "S4m3eYPq6dDu",
        "colab_type": "code",
        "outputId": "c33f4e7e-8b84-464e-ee8e-db173723db3f",
        "colab": {
          "base_uri": "https://localhost:8080/",
          "height": 330
        }
      },
      "cell_type": "code",
      "source": [
        "from mpl_toolkits.mplot3d import Axes3D\n",
        "import matplotlib.pyplot as plt\n",
        "from matplotlib import cm\n",
        "from matplotlib.ticker import LinearLocator, FormatStrFormatter\n",
        "import numpy as np\n",
        "\n",
        "\n",
        "fig = plt.figure()\n",
        "ax = fig.gca(projection='3d')\n",
        "\n",
        "# Make data.\n",
        "X = np.arange(-5, 5, 0.25)\n",
        "Y = np.arange(-5, 5, 0.25)\n",
        "X, Y = np.meshgrid(X, Y)\n",
        "R = np.sqrt(X**2 + Y**2)\n",
        "Z = np.sin(R)\n",
        "\n",
        "# Plot the surface.\n",
        "surf = ax.plot_surface(X, Y, Z, cmap=cm.coolwarm,\n",
        "                       linewidth=0, antialiased=False)\n",
        "\n",
        "# Customize the z axis.\n",
        "ax.set_zlim(-1.01, 1.01)\n",
        "ax.zaxis.set_major_locator(LinearLocator(10))\n",
        "ax.zaxis.set_major_formatter(FormatStrFormatter('%.02f'))\n",
        "\n",
        "# Add a color bar which maps values to colors.\n",
        "fig.colorbar(surf, shrink=0.5, aspect=5)\n",
        "\n",
        "plt.show()"
      ],
      "execution_count": 0,
      "outputs": [
        {
          "output_type": "display_data",
          "data": {
            "image/png": "[encoded data removed]",
            "text/plain": [
              "<Figure size 576x396 with 2 Axes>"
            ]
          },
          "metadata": {
            "tags": []
          }
        }
      ]
    },
    {
      "metadata": {
        "id": "7nyc1hJMcyNz",
        "colab_type": "text"
      },
      "cell_type": "markdown",
      "source": [
        "### Exercise\n",
        "\n",
        "Plot following function on the domain of \\[-2, 2\\]:\n",
        "\n",
        "$$y= f(x) = \\left(\\sqrt{\\cos(x)}\\cdot\\cos(200\\cdot x)+\\sqrt{|x|}-0.7\\right)\\cdot(4-x^2)^{0.01}$$\n",
        "\n",
        "**Solution:**"
      ]
    },
    {
      "metadata": {
        "id": "CbojScHOajhV",
        "colab_type": "code",
        "outputId": "be137349-8d31-461b-e2bc-68920513d068",
        "colab": {
          "base_uri": "https://localhost:8080/",
          "height": 398
        }
      },
      "cell_type": "code",
      "source": [
        "# Your Code Here\n",
        "x = np.arange(-2, 2, 0.001)\n",
        "\n",
        "plt.plot(x, (np.sqrt(np.cos(x))*np.cos(200*x)+np.sqrt(np.abs(x))-0.7)*(4-x*x)**(0.01), color='r')"
      ],
      "execution_count": 0,
      "outputs": [
        {
          "output_type": "stream",
          "text": [
            "/usr/local/lib/python3.6/dist-packages/ipykernel_launcher.py:3: RuntimeWarning: invalid value encountered in sqrt\n",
            "  This is separate from the ipykernel package so we can avoid doing imports until\n"
          ],
          "name": "stderr"
        },
        {
          "output_type": "execute_result",
          "data": {
            "text/plain": [
              "[<matplotlib.lines.Line2D at 0x7f2af9a4c1d0>]"
            ]
          },
          "metadata": {
            "tags": []
          },
          "execution_count": 3
        },
        {
          "output_type": "display_data",
          "data": {
            "image/png": "[encoded data removed]",
            "text/plain": [
              "<Figure size 576x396 with 1 Axes>"
            ]
          },
          "metadata": {
            "tags": []
          }
        }
      ]
    },
    {
      "metadata": {
        "id": "3rp6owj_EXOt",
        "colab_type": "code",
        "colab": {}
      },
      "cell_type": "code",
      "source": [
        ""
      ],
      "execution_count": 0,
      "outputs": []
    }
  ]
}